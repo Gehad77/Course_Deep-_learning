{
 "cells": [
  {
   "cell_type": "code",
   "execution_count": 1,
   "metadata": {
    "id": "4SOWtTe-_hgk"
   },
   "outputs": [],
   "source": [
    "from tensorflow.keras.datasets import mnist\n",
    "import matplotlib.pyplot as plt\n",
    "import numpy as np\n",
    "\n"
   ]
  },
  {
   "cell_type": "code",
   "execution_count": 2,
   "metadata": {
    "colab": {
     "base_uri": "https://localhost:8080/"
    },
    "id": "hUQrtrzCAoSZ",
    "outputId": "76b584d9-25dc-485e-b083-da117a3bd8b6"
   },
   "outputs": [
    {
     "name": "stdout",
     "output_type": "stream",
     "text": [
      "Downloading data from https://storage.googleapis.com/tensorflow/tf-keras-datasets/mnist.npz\n",
      "11490434/11490434 [==============================] - 0s 0us/step\n"
     ]
    }
   ],
   "source": [
    "(train_X,train_y),(test_X,test_y)=mnist.load_data()"
   ]
  },
  {
   "cell_type": "code",
   "execution_count": 3,
   "metadata": {
    "colab": {
     "base_uri": "https://localhost:8080/"
    },
    "id": "L88OzJ13Aue4",
    "outputId": "17068fdd-9f57-4079-c4b9-11c0db8bfabb"
   },
   "outputs": [
    {
     "name": "stdout",
     "output_type": "stream",
     "text": [
      "(60000, 28, 28) (10000, 28, 28)\n"
     ]
    }
   ],
   "source": [
    "print(train_X.shape,test_X.shape)"
   ]
  },
  {
   "cell_type": "code",
   "execution_count": 4,
   "metadata": {
    "id": "2rVlxe00A0Lq"
   },
   "outputs": [],
   "source": [
    "train_X=train_X/255\n",
    "test_X=test_X/255"
   ]
  },
  {
   "cell_type": "code",
   "execution_count": 10,
   "metadata": {
    "id": "ONWDHRsQB5JJ"
   },
   "outputs": [],
   "source": [
    "from  tensorflow.keras.utils import to_categorical\n",
    "\n",
    "train_y=to_categorical(train_y)"
   ]
  },
  {
   "cell_type": "code",
   "execution_count": 11,
   "metadata": {
    "colab": {
     "base_uri": "https://localhost:8080/"
    },
    "id": "D17pXC0FCkPx",
    "outputId": "0974f7d1-ad36-41e2-9522-a28c13c59309"
   },
   "outputs": [
    {
     "data": {
      "text/plain": [
       "array([0., 0., 0., 0., 0., 1., 0., 0., 0., 0.], dtype=float32)"
      ]
     },
     "execution_count": 11,
     "metadata": {},
     "output_type": "execute_result"
    }
   ],
   "source": [
    "train_y[0]"
   ]
  },
  {
   "cell_type": "markdown",
   "metadata": {
    "id": "qnaWHWHhBCFp"
   },
   "source": [
    "Model "
   ]
  },
  {
   "cell_type": "code",
   "execution_count": 19,
   "metadata": {
    "id": "Pya40BmQA_Bs"
   },
   "outputs": [],
   "source": [
    "from tensorflow.keras.models import Sequential\n",
    "from tensorflow.keras.layers import Dense,Flatten,Dropout"
   ]
  },
  {
   "cell_type": "code",
   "execution_count": 24,
   "metadata": {
    "colab": {
     "base_uri": "https://localhost:8080/"
    },
    "id": "nOFOn-HDFSEd",
    "outputId": "d05329e0-f2cf-403a-f696-b95126671c1a"
   },
   "outputs": [
    {
     "name": "stdout",
     "output_type": "stream",
     "text": [
      "Model: \"sequential_6\"\n",
      "_________________________________________________________________\n",
      " Layer (type)                Output Shape              Param #   \n",
      "=================================================================\n",
      " flatten_6 (Flatten)         (None, 784)               0         \n",
      "                                                                 \n",
      " dense_14 (Dense)            (None, 32)                25120     \n",
      "                                                                 \n",
      " dense_15 (Dense)            (None, 64)                2112      \n",
      "                                                                 \n",
      " dropout_2 (Dropout)         (None, 64)                0         \n",
      "                                                                 \n",
      " dense_16 (Dense)            (None, 10)                650       \n",
      "                                                                 \n",
      "=================================================================\n",
      "Total params: 27,882\n",
      "Trainable params: 27,882\n",
      "Non-trainable params: 0\n",
      "_________________________________________________________________\n"
     ]
    }
   ],
   "source": [
    "model=Sequential()\n",
    "model.add(Flatten(input_shape=(28,28)))\n",
    "model.add(Dense(32,activation='relu'))\n",
    "model.add(Dense(64,activation='relu'))\n",
    "model.add(Dropout(0.3))\n",
    "model.add(Dense(10,activation='softmax'))\n",
    "model.summary()"
   ]
  },
  {
   "cell_type": "code",
   "execution_count": 25,
   "metadata": {
    "colab": {
     "base_uri": "https://localhost:8080/"
    },
    "id": "g69mNRvjFkL3",
    "outputId": "ef1e9a0f-e80f-4f06-e870-2783919168b1"
   },
   "outputs": [
    {
     "name": "stdout",
     "output_type": "stream",
     "text": [
      "Epoch 1/10\n",
      "750/750 [==============================] - 4s 5ms/step - loss: 0.5471 - accuracy: 0.8335 - val_loss: 0.2254 - val_accuracy: 0.9323\n",
      "Epoch 2/10\n",
      "750/750 [==============================] - 2s 3ms/step - loss: 0.2551 - accuracy: 0.9244 - val_loss: 0.1684 - val_accuracy: 0.9505\n",
      "Epoch 3/10\n",
      "750/750 [==============================] - 3s 4ms/step - loss: 0.2019 - accuracy: 0.9407 - val_loss: 0.1478 - val_accuracy: 0.9571\n",
      "Epoch 4/10\n",
      "750/750 [==============================] - 2s 3ms/step - loss: 0.1722 - accuracy: 0.9490 - val_loss: 0.1371 - val_accuracy: 0.9582\n",
      "Epoch 5/10\n",
      "750/750 [==============================] - 2s 3ms/step - loss: 0.1484 - accuracy: 0.9563 - val_loss: 0.1265 - val_accuracy: 0.9628\n",
      "Epoch 6/10\n",
      "750/750 [==============================] - 2s 3ms/step - loss: 0.1338 - accuracy: 0.9603 - val_loss: 0.1231 - val_accuracy: 0.9638\n",
      "Epoch 7/10\n",
      "750/750 [==============================] - 2s 3ms/step - loss: 0.1208 - accuracy: 0.9649 - val_loss: 0.1230 - val_accuracy: 0.9651\n",
      "Epoch 8/10\n",
      "750/750 [==============================] - 2s 3ms/step - loss: 0.1109 - accuracy: 0.9670 - val_loss: 0.1168 - val_accuracy: 0.9667\n",
      "Epoch 9/10\n",
      "750/750 [==============================] - 2s 3ms/step - loss: 0.1011 - accuracy: 0.9694 - val_loss: 0.1204 - val_accuracy: 0.9665\n",
      "Epoch 10/10\n",
      "750/750 [==============================] - 2s 3ms/step - loss: 0.0969 - accuracy: 0.9704 - val_loss: 0.1076 - val_accuracy: 0.9697\n"
     ]
    }
   ],
   "source": [
    "model.compile(loss='categorical_crossentropy',optimizer='adam',metrics=['accuracy'])\n",
    "history=model.fit(train_X,train_y,validation_split=0.2,batch_size=64,epochs=10)"
   ]
  },
  {
   "cell_type": "code",
   "execution_count": 26,
   "metadata": {
    "colab": {
     "base_uri": "https://localhost:8080/",
     "height": 279
    },
    "id": "Y6PyIzbpF9NT",
    "outputId": "b37d981e-26b6-4533-a9c6-4dccd8f43561"
   },
   "outputs": [
    {
     "data": {
      "image/png": "[encoded data removed]",
      "text/plain": [
       "<Figure size 576x288 with 1 Axes>"
      ]
     },
     "metadata": {
      "needs_background": "light"
     },
     "output_type": "display_data"
    }
   ],
   "source": [
    "plt.figure(figsize=(8,4))\n",
    "plt.plot(history.history['loss'],label='train')\n",
    "plt.plot(history.history['val_loss'],label='Val')\n",
    "plt.xlabel('Number of epochs ')\n",
    "plt.legend()\n",
    "plt.show()"
   ]
  },
  {
   "cell_type": "code",
   "execution_count": 28,
   "metadata": {
    "colab": {
     "base_uri": "https://localhost:8080/",
     "height": 279
    },
    "id": "yK_AuhKkHEqB",
    "outputId": "66b73b90-3491-44fb-91c4-4583799e3633"
   },
   "outputs": [
    {
     "data": {
      "image/png": "[encoded data removed]",
      "text/plain": [
       "<Figure size 576x288 with 1 Axes>"
      ]
     },
     "metadata": {
      "needs_background": "light"
     },
     "output_type": "display_data"
    }
   ],
   "source": [
    "plt.figure(figsize=(8,4))\n",
    "plt.plot(history.history['accuracy'],label='train')\n",
    "plt.plot(history.history['val_accuracy'],label='Val')\n",
    "plt.xlabel('Number of epochs ')\n",
    "plt.legend()\n",
    "plt.show()"
   ]
  },
  {
   "cell_type": "code",
   "execution_count": null,
   "metadata": {
    "id": "FMWE-olYHH_z"
   },
   "outputs": [],
   "source": []
  }
 ],
 "metadata": {
  "colab": {
   "provenance": []
  },
  "kernelspec": {
   "display_name": "Python 3 (ipykernel)",
   "language": "python",
   "name": "python3"
  },
  "language_info": {
   "codemirror_mode": {
    "name": "ipython",
    "version": 3
   },
   "file_extension": ".py",
   "mimetype": "text/x-python",
   "name": "python",
   "nbconvert_exporter": "python",
   "pygments_lexer": "ipython3",
   "version": "3.9.7"
  }
 },
 "nbformat": 4,
 "nbformat_minor": 4
}
