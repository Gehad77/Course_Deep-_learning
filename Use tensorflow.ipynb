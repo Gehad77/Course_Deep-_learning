{
 "cells": [
  {
   "cell_type": "markdown",
   "id": "30805cab-e048-4118-ab71-2532e24f5b12",
   "metadata": {
    "tags": []
   },
   "source": [
    "# Verssion 1 of tensorflow"
   ]
  },
  {
   "cell_type": "code",
   "execution_count": 2,
   "id": "5e9fe89e-7280-4301-a27d-ed3f2341919f",
   "metadata": {},
   "outputs": [],
   "source": [
    "import tensorflow.compat.v1 as tf"
   ]
  },
  {
   "cell_type": "code",
   "execution_count": 3,
   "id": "2ff176c3-4178-4149-8055-dc5b3fe20f96",
   "metadata": {},
   "outputs": [
    {
     "name": "stdout",
     "output_type": "stream",
     "text": [
      "WARNING:tensorflow:From C:\\Users\\AMIT\\anaconda3\\lib\\site-packages\\tensorflow\\python\\compat\\v2_compat.py:107: disable_resource_variables (from tensorflow.python.ops.variable_scope) is deprecated and will be removed in a future version.\n",
      "Instructions for updating:\n",
      "non-resource variables are not supported in the long term\n"
     ]
    }
   ],
   "source": [
    "tf.disable_v2_behavior() # ان هقفل السيشن بتاعت سيسنور علشان اشتغل عليه هو بس "
   ]
  },
  {
   "cell_type": "raw",
   "id": "ea4dab64-108f-4965-86fc-668323947f48",
   "metadata": {},
   "source": [
    "i need to drow the graph \n",
    "2*5 (multiply)"
   ]
  },
  {
   "cell_type": "code",
   "execution_count": 6,
   "id": "b707981a-0b8c-4916-a4a9-213975b6c4ed",
   "metadata": {},
   "outputs": [
    {
     "data": {
      "text/plain": [
       "<tf.Tensor 'Mul:0' shape=(1,) dtype=int32>"
      ]
     },
     "execution_count": 6,
     "metadata": {},
     "output_type": "execute_result"
    }
   ],
   "source": [
    "x1 = tf.constant([2],name = \"tensor1\")\n",
    "x2 = tf.constant([5],name = \"tensor2\")\n",
    "\n",
    "result = tf.multiply(x1 , x2)\n",
    "\n",
    "result"
   ]
  },
  {
   "cell_type": "raw",
   "id": "d3320db6-c333-4545-af2c-c03505635e15",
   "metadata": {},
   "source": [
    "so i need know the result 2*5=10 --> هنفذ ال flow "
   ]
  },
  {
   "cell_type": "code",
   "execution_count": 8,
   "id": "d95022fc-cb0d-4067-ba6c-d36b0e6a873b",
   "metadata": {},
   "outputs": [
    {
     "name": "stdout",
     "output_type": "stream",
     "text": [
      "[10]\n"
     ]
    },
    {
     "data": {
      "text/plain": [
       "<bound method BaseSession.close of <tensorflow.python.client.session.Session object at 0x000001C7200D19A0>>"
      ]
     },
     "execution_count": 8,
     "metadata": {},
     "output_type": "execute_result"
    }
   ],
   "source": [
    "sess = tf.compat.v1.Session() # open the session \n",
    "print(sess.run(result))\n",
    "\n",
    "sess.close"
   ]
  },
  {
   "cell_type": "code",
   "execution_count": null,
   "id": "f98fe41f-edde-4a55-ad71-7a9919f38d90",
   "metadata": {},
   "outputs": [],
   "source": [
    "using with to not using close in the end "
   ]
  },
  {
   "cell_type": "code",
   "execution_count": 11,
   "id": "74cb7839-541b-472d-9672-cb05a051e39b",
   "metadata": {},
   "outputs": [
    {
     "name": "stdout",
     "output_type": "stream",
     "text": [
      "[ 5 12 21 32]\n"
     ]
    }
   ],
   "source": [
    "x1 = tf.constant([1,2,3,4])\n",
    "x2 = tf.constant([5,6,7,8])\n",
    "\n",
    "result = tf.multiply(x1,x2)\n",
    "\n",
    "result\n",
    "\n",
    "with tf.compat.v1.Session() as sess:\n",
    "    output = sess.run(result)\n",
    "    print (output)"
   ]
  },
  {
   "cell_type": "raw",
   "id": "aaefa214-accb-46c0-bd95-88e33f1cd52b",
   "metadata": {},
   "source": [
    "i need to drow the graph \n",
    "2+5 (Sum)"
   ]
  },
  {
   "cell_type": "code",
   "execution_count": 13,
   "id": "ece8e2bb-ff53-448f-a3d7-99119de9d030",
   "metadata": {},
   "outputs": [
    {
     "name": "stdout",
     "output_type": "stream",
     "text": [
      "[ 6  8 10 12]\n",
      "[-4 -4 -4 -4]\n",
      "[ 5 12 21 32]\n",
      "[0.2        0.33333333 0.42857143 0.5       ]\n"
     ]
    }
   ],
   "source": [
    "x1 = tf.constant([1,2,3,4])\n",
    "x2 = tf.constant([5,6,7,8])\n",
    "\n",
    "summ = tf.add(x1,x2)\n",
    "\n",
    "sub = tf.subtract(x1,x2)\n",
    "\n",
    "mult = tf.multiply(x1,x2)\n",
    "\n",
    "div = tf.divide(x1,x2)\n",
    "\n",
    "with tf.compat.v1.Session() as sass:\n",
    "    print(sass.run(summ))\n",
    "    print(sass.run(sub))\n",
    "    print(sass.run(mult))\n",
    "    print(sass.run(div))"
   ]
  },
  {
   "cell_type": "raw",
   "id": "c8ff1c9a-257d-465b-ac2b-b07f97afbd00",
   "metadata": {},
   "source": [
    "typs os tensorflow and shape \n",
    "vector \n",
    "matrix \n",
    "tensor for photo "
   ]
  },
  {
   "cell_type": "code",
   "execution_count": 19,
   "id": "b9e7171b-ff95-4ea0-9eb3-3dcfcb106053",
   "metadata": {},
   "outputs": [
    {
     "data": {
      "text/plain": [
       "<tf.Tensor 'Const_30:0' shape=(3, 3, 3) dtype=int32>"
      ]
     },
     "execution_count": 19,
     "metadata": {},
     "output_type": "execute_result"
    }
   ],
   "source": [
    "scalar = tf.constant(2) # shape will equal zero\n",
    "\n",
    "vector = tf.constant([5,7,9]) # shape will be 3*1\n",
    "\n",
    "matrix = tf.constant([[5,7,0] , [2,5,1] ,[4,7,2]]) # 3*3\n",
    "\n",
    "tensor = tf.constant ([[[5,7,0] , [2,5,1] ,[4,7,2]],[[5,7,0] , [2,5,1] ,[4,7,2]],[[5,7,0] , [2,5,1] ,[4,7,2]]]) # 3 * 3* 3\n",
    "\n",
    "tensor"
   ]
  },
  {
   "cell_type": "raw",
   "id": "6115b9dc-65ca-490e-b385-211d8c2b34bb",
   "metadata": {},
   "source": [
    "ملحوظه ماينفعش ابقي شغال v1 \n",
    "مع \n",
    "v2 \n",
    "في نفس النوتبوك \n",
    "\n",
    "فلازم اعمل ريستارت"
   ]
  },
  {
   "cell_type": "markdown",
   "id": "e489c16c-0945-426a-8543-06b4497f1484",
   "metadata": {
    "tags": []
   },
   "source": [
    "# Verssion 2 of tensorflow"
   ]
  },
  {
   "cell_type": "raw",
   "id": "bc572ca1-eff6-462e-8e1d-3baf47ca06ba",
   "metadata": {},
   "source": [
    "import tensorflow as tf \n",
    "# هيطبعها انها فيرجين 2 عادي لوحدها بس علشان اتأكد هعمل كود يتأكد \n",
    "from tensorflow.python.framwork.ops import enable_eager_execution\n",
    "# هنا انا بجيبها من المكتبه هي هي فعلا موجوده واطبعت في الكود ولا لا "
   ]
  },
  {
   "cell_type": "code",
   "execution_count": 7,
   "id": "fad160b7-8683-40c2-9c7e-8eea92e5426e",
   "metadata": {},
   "outputs": [
    {
     "data": {
      "text/plain": [
       "True"
      ]
     },
     "execution_count": 7,
     "metadata": {},
     "output_type": "execute_result"
    }
   ],
   "source": [
    "import tensorflow as tf \n",
    "from tensorflow.python.framework.ops import enable_eager_execution\n",
    "\n",
    "enable_eager_execution()\n",
    "\n",
    "tf.executing_eagerly()"
   ]
  },
  {
   "cell_type": "raw",
   "id": "6939390e-3230-49b7-b952-43c1446e20fb",
   "metadata": {},
   "source": [
    "من مميزاته ان ممكن اعرف \n",
    "x = [6]\n",
    "فكدا هعمل قيمه ليها , مش هحتاج ان اقفل وافتح في السيسور علشان يقرألي الحاجه  "
   ]
  },
  {
   "cell_type": "code",
   "execution_count": 4,
   "id": "1e2579c6-ffbd-4473-8a27-83337305b798",
   "metadata": {},
   "outputs": [
    {
     "data": {
      "text/plain": [
       "<tf.Tensor: shape=(1,), dtype=int32, numpy=array([36])>"
      ]
     },
     "execution_count": 4,
     "metadata": {},
     "output_type": "execute_result"
    }
   ],
   "source": [
    "x = [ 6 ]\n",
    "result= tf.multiply(x,x)\n",
    "result"
   ]
  },
  {
   "cell_type": "code",
   "execution_count": null,
   "id": "ff94730e-ceef-4292-ad91-67359c7b9ecf",
   "metadata": {},
   "outputs": [],
   "source": [
    " i can print the number directly"
   ]
  },
  {
   "cell_type": "code",
   "execution_count": 6,
   "id": "897e2019-7388-440a-a728-7306f6f51305",
   "metadata": {},
   "outputs": [
    {
     "data": {
      "text/plain": [
       "36"
      ]
     },
     "execution_count": 6,
     "metadata": {},
     "output_type": "execute_result"
    }
   ],
   "source": [
    "result.numpy()[0]"
   ]
  },
  {
   "cell_type": "code",
   "execution_count": 9,
   "id": "8939c751-3d2f-4380-a995-76615fc7f166",
   "metadata": {},
   "outputs": [
    {
     "name": "stdout",
     "output_type": "stream",
     "text": [
      "tf.Tensor([ 6  8 10 12], shape=(4,), dtype=int32)\n",
      "tf.Tensor([-4 -4 -4 -4], shape=(4,), dtype=int32)\n",
      "tf.Tensor([ 5 12 21 32], shape=(4,), dtype=int32)\n",
      "tf.Tensor([0.2        0.33333333 0.42857143 0.5       ], shape=(4,), dtype=float64)\n"
     ]
    }
   ],
   "source": [
    "x1 = tf.constant([1,2,3,4])\n",
    "x2 = tf.constant([5,6,7,8])\n",
    "\n",
    "summ = tf.add(x1,x2)\n",
    "\n",
    "sub = tf.subtract(x1,x2)\n",
    "\n",
    "mult = tf.multiply(x1,x2)\n",
    "\n",
    "div = tf.divide(x1,x2)\n",
    "\n",
    "\n",
    "print(summ.numpy())\n",
    "print(sub)\n",
    "print(mult)\n",
    "print(div)"
   ]
  },
  {
   "cell_type": "code",
   "execution_count": null,
   "id": "9950611a-f660-4e03-a85e-0a518a38a674",
   "metadata": {},
   "outputs": [],
   "source": []
  },
  {
   "cell_type": "markdown",
   "id": "3eb19e42-0d18-41f7-aa1d-571fded711ab",
   "metadata": {
    "tags": []
   },
   "source": [
    "# Linear Regression Model with tensorflow"
   ]
  },
  {
   "cell_type": "code",
   "execution_count": 1,
   "id": "ca06d87b-f510-41eb-89ff-9d0fa659537a",
   "metadata": {},
   "outputs": [],
   "source": [
    "import pandas as pd\n",
    "import numpy as np\n",
    "import matplotlib.pyplot as plt"
   ]
  },
  {
   "cell_type": "code",
   "execution_count": 2,
   "id": "12757618-fd44-4828-b23b-cd66c9e7bed7",
   "metadata": {},
   "outputs": [],
   "source": [
    "data = pd.read_csv(\"FuelConsumptionCo2.csv\")"
   ]
  },
  {
   "cell_type": "code",
   "execution_count": 3,
   "id": "9b12aad4-fc3b-469a-a4c5-20d1c2f622f2",
   "metadata": {},
   "outputs": [
    {
     "data": {
      "text/html": [
       "<div>\n",
       "<style scoped>\n",
       "    .dataframe tbody tr th:only-of-type {\n",
       "        vertical-align: middle;\n",
       "    }\n",
       "\n",
       "    .dataframe tbody tr th {\n",
       "        vertical-align: top;\n",
       "    }\n",
       "\n",
       "    .dataframe thead th {\n",
       "        text-align: right;\n",
       "    }\n",
       "</style>\n",
       "<table border=\"1\" class=\"dataframe\">\n",
       "  <thead>\n",
       "    <tr style=\"text-align: right;\">\n",
       "      <th></th>\n",
       "      <th>MODELYEAR</th>\n",
       "      <th>Brands</th>\n",
       "      <th>VEHICLECLASS</th>\n",
       "      <th>ENGINESIZE</th>\n",
       "      <th>CYLINDERS</th>\n",
       "      <th>TRANSMISSION</th>\n",
       "      <th>FUELTYPE</th>\n",
       "      <th>FUELCONSUMPTION_CITY</th>\n",
       "      <th>FUELCONSUMPTION_HWY</th>\n",
       "      <th>FUELCONSUMPTION_COMB</th>\n",
       "      <th>FUELCONSUMPTION_COMB_MPG</th>\n",
       "      <th>CO2EMISSIONS</th>\n",
       "    </tr>\n",
       "  </thead>\n",
       "  <tbody>\n",
       "    <tr>\n",
       "      <th>0</th>\n",
       "      <td>2014</td>\n",
       "      <td>ACURA</td>\n",
       "      <td>COMPACT</td>\n",
       "      <td>2.0</td>\n",
       "      <td>4</td>\n",
       "      <td>AS5</td>\n",
       "      <td>Z</td>\n",
       "      <td>9.9</td>\n",
       "      <td>6.7</td>\n",
       "      <td>8.5</td>\n",
       "      <td>33</td>\n",
       "      <td>196</td>\n",
       "    </tr>\n",
       "    <tr>\n",
       "      <th>1</th>\n",
       "      <td>2014</td>\n",
       "      <td>ACURA</td>\n",
       "      <td>COMPACT</td>\n",
       "      <td>2.4</td>\n",
       "      <td>4</td>\n",
       "      <td>M6</td>\n",
       "      <td>Z</td>\n",
       "      <td>11.2</td>\n",
       "      <td>7.7</td>\n",
       "      <td>9.6</td>\n",
       "      <td>29</td>\n",
       "      <td>221</td>\n",
       "    </tr>\n",
       "    <tr>\n",
       "      <th>2</th>\n",
       "      <td>2014</td>\n",
       "      <td>ACURA</td>\n",
       "      <td>COMPACT</td>\n",
       "      <td>1.5</td>\n",
       "      <td>4</td>\n",
       "      <td>AV7</td>\n",
       "      <td>Z</td>\n",
       "      <td>6.0</td>\n",
       "      <td>5.8</td>\n",
       "      <td>5.9</td>\n",
       "      <td>48</td>\n",
       "      <td>136</td>\n",
       "    </tr>\n",
       "    <tr>\n",
       "      <th>3</th>\n",
       "      <td>2014</td>\n",
       "      <td>ACURA</td>\n",
       "      <td>SUV_SMALL</td>\n",
       "      <td>3.5</td>\n",
       "      <td>6</td>\n",
       "      <td>AS6</td>\n",
       "      <td>Z</td>\n",
       "      <td>12.7</td>\n",
       "      <td>9.1</td>\n",
       "      <td>11.1</td>\n",
       "      <td>25</td>\n",
       "      <td>255</td>\n",
       "    </tr>\n",
       "    <tr>\n",
       "      <th>4</th>\n",
       "      <td>2014</td>\n",
       "      <td>ACURA</td>\n",
       "      <td>SUV_SMALL</td>\n",
       "      <td>3.5</td>\n",
       "      <td>6</td>\n",
       "      <td>AS6</td>\n",
       "      <td>Z</td>\n",
       "      <td>12.1</td>\n",
       "      <td>8.7</td>\n",
       "      <td>10.6</td>\n",
       "      <td>27</td>\n",
       "      <td>244</td>\n",
       "    </tr>\n",
       "  </tbody>\n",
       "</table>\n",
       "</div>"
      ],
      "text/plain": [
       "   MODELYEAR Brands VEHICLECLASS  ENGINESIZE  CYLINDERS TRANSMISSION FUELTYPE  \\\n",
       "0       2014  ACURA      COMPACT         2.0          4          AS5        Z   \n",
       "1       2014  ACURA      COMPACT         2.4          4           M6        Z   \n",
       "2       2014  ACURA      COMPACT         1.5          4          AV7        Z   \n",
       "3       2014  ACURA    SUV_SMALL         3.5          6          AS6        Z   \n",
       "4       2014  ACURA    SUV_SMALL         3.5          6          AS6        Z   \n",
       "\n",
       "   FUELCONSUMPTION_CITY  FUELCONSUMPTION_HWY  FUELCONSUMPTION_COMB  \\\n",
       "0                   9.9                  6.7                   8.5   \n",
       "1                  11.2                  7.7                   9.6   \n",
       "2                   6.0                  5.8                   5.9   \n",
       "3                  12.7                  9.1                  11.1   \n",
       "4                  12.1                  8.7                  10.6   \n",
       "\n",
       "   FUELCONSUMPTION_COMB_MPG  CO2EMISSIONS  \n",
       "0                        33           196  \n",
       "1                        29           221  \n",
       "2                        48           136  \n",
       "3                        25           255  \n",
       "4                        27           244  "
      ]
     },
     "execution_count": 3,
     "metadata": {},
     "output_type": "execute_result"
    }
   ],
   "source": [
    "data.head()"
   ]
  },
  {
   "cell_type": "code",
   "execution_count": 4,
   "id": "d6235ab6-ff11-4a59-b7c3-a4c6b8abb516",
   "metadata": {},
   "outputs": [
    {
     "data": {
      "text/plain": [
       "(1067,)"
      ]
     },
     "execution_count": 4,
     "metadata": {},
     "output_type": "execute_result"
    }
   ],
   "source": [
    "train_x = data[\"ENGINESIZE\"].values\n",
    "train_y = data[\"CO2EMISSIONS\"].values\n",
    "train_x.shape\n",
    "train_y.shape"
   ]
  },
  {
   "cell_type": "markdown",
   "id": "e683af99-a114-4197-b273-62418ed98bd4",
   "metadata": {
    "tags": []
   },
   "source": [
    "## h = w*x + b"
   ]
  },
  {
   "cell_type": "markdown",
   "id": "4dcdff9a-d846-4a0a-9cd0-ce7764c19993",
   "metadata": {},
   "source": [
    "هيحدد ال \n",
    "w random \n",
    "in every run"
   ]
  },
  {
   "cell_type": "markdown",
   "id": "cb709403-8028-4840-8b28-10174f3409eb",
   "metadata": {},
   "source": [
    "فهعمل train \n",
    "\n",
    "اعمل بيه evaluation \n",
    "\n",
    " مااروحش اقفل بقي لا اعمل save to model \n"
   ]
  },
  {
   "cell_type": "markdown",
   "id": "423d76c5-d2e0-4328-a8f3-5e27e08556be",
   "metadata": {},
   "source": [
    "لما اعمل save model it will save the result\n",
    "\n",
    "when i save the wight it will save the train "
   ]
  },
  {
   "cell_type": "code",
   "execution_count": 29,
   "id": "41cfe9c8-ab2c-42b7-aae6-6715fe87cbef",
   "metadata": {},
   "outputs": [],
   "source": [
    "w = tf.Variable(20.0) # --> عرفنها انها فاريبل لانها هتتغير القيم بتاعتها مش هتبقي ثابته\n",
    "b = tf.Variable(30.2)\n",
    "\n",
    "\n",
    "def h(x):\n",
    "    y = w*x + b\n",
    "    return y \n"
   ]
  },
  {
   "cell_type": "code",
   "execution_count": 30,
   "id": "434ecc06-2341-482b-aed9-bbdde694221b",
   "metadata": {},
   "outputs": [],
   "source": [
    "def cost_function(y,y_pred):\n",
    "    out = tf.reduce_mean(tf.square(y-y_pred))\n",
    "    \n",
    "    return out"
   ]
  },
  {
   "cell_type": "markdown",
   "id": "3d53607e-06f5-4dc2-89ca-fcdc18ab5336",
   "metadata": {},
   "source": [
    "## optimizer --> gradient decsent "
   ]
  },
  {
   "cell_type": "markdown",
   "id": "d0fe50fe-843f-4087-a1a0-a4677fee929b",
   "metadata": {},
   "source": [
    "w_new = W_old- alpha *dervitive"
   ]
  },
  {
   "cell_type": "code",
   "execution_count": 45,
   "id": "c1fd649c-d545-4e79-9f3b-1a4592995fe6",
   "metadata": {},
   "outputs": [],
   "source": [
    "alpha = 0.01\n",
    "training_epochs = 100\n",
    "loss_values =[]\n",
    "b_values = []\n",
    "w_values = []\n",
    "\n",
    "\n",
    "for epoch in range(training_epochs):\n",
    "    with tf.GradientTape() as tape: # GradientTape will loop to every epoch\n",
    "        y_pred = h(train_x)\n",
    "        \n",
    "        loss_value = cost_function(train_y,y_pred)\n",
    "        loss_values.append(loss_value)\n",
    "        \n",
    "        gradients = tape.gradient(loss_values,[b,w])# اعملي تفاضل مره بالنسبه للبي ومره بالنسبه لل دابيو \n",
    "        \n",
    "        # print(f'b value = {b.numpy()}')# brint the wight  \n",
    "        \n",
    "        b.assign_sub(gradients[0] * alpha) # اعملي ابديت كل مره بالرقم الجديد الي طلعلي  b- gradiant[0] *alpha\n",
    "        w.assign_sub(gradients[1] * alpha)\n",
    "        \n",
    "    b_values.append(b.numpy())\n",
    "    w_values.append(w.numpy())\n"
   ]
  },
  {
   "cell_type": "markdown",
   "id": "3874cee9-19e8-4aa0-821e-2cd7906f02f5",
   "metadata": {},
   "source": [
    "كدا انا هغير ال b and w \n",
    "\n",
    "علي حسب ال loss \n",
    "\n",
    "بمعني لو الارور عالي غيرهم "
   ]
  },
  {
   "cell_type": "code",
   "execution_count": 46,
   "id": "2eb518e0-8d73-49d5-8862-cfd801698d2d",
   "metadata": {},
   "outputs": [
    {
     "data": {
      "text/plain": [
       "[<matplotlib.lines.Line2D at 0x1be9cfe6fd0>]"
      ]
     },
     "execution_count": 46,
     "metadata": {},
     "output_type": "execute_result"
    },
    {
     "data": {
      "image/png": "[encoded data removed]",
      "text/plain": [
       "<Figure size 432x288 with 1 Axes>"
      ]
     },
     "metadata": {
      "needs_background": "light"
     },
     "output_type": "display_data"
    }
   ],
   "source": [
    "plt.xlabel('Epoch')\n",
    "plt.ylabel('Loss')\n",
    "plt.plot(loss_values,\"ro\")"
   ]
  },
  {
   "cell_type": "code",
   "execution_count": 47,
   "id": "f0c545fd-99a2-460d-ad54-74164a21eef1",
   "metadata": {},
   "outputs": [
    {
     "data": {
      "text/plain": [
       "[<matplotlib.lines.Line2D at 0x1be9cf6fd90>]"
      ]
     },
     "execution_count": 47,
     "metadata": {},
     "output_type": "execute_result"
    },
    {
     "data": {
      "image/png": "[encoded data removed]",
      "text/plain": [
       "<Figure size 720x576 with 1 Axes>"
      ]
     },
     "metadata": {
      "needs_background": "light"
     },
     "output_type": "display_data"
    }
   ],
   "source": [
    "plt.figure(figsize = (10,8))\n",
    "plt.scatter(train_x,train_y , color = \"green\")\n",
    "\n",
    "for w_plot,b_plot in zip(w_values[0:len(w_values)],b_values[0:len(b_values)]):\n",
    "    plt.plot(train_x,w_plot*train_x + b_plot , color = 'red' ,linestyle = 'dashed') # will drow the b value and w values when it do the update\n",
    "\n",
    "plt.plot(train_x , w_values[-1] * train_x + b_values[-1] ,color ='black') # for the limet we put\n",
    "# رسمنا كل ال لاين الي فضل يرسمها لحد ما فيي الاخر هيذهر اخر واحد الي هو -1 "
   ]
  },
  {
   "cell_type": "markdown",
   "id": "6ba375e8-30ea-420e-a622-3a3bd16d4397",
   "metadata": {},
   "source": [
    "رسمت كل line \n",
    "\n",
    "من وقت ماا كان المودل بيدرب لحد لما وصل لافضل حاجه الي هو عند  b_values[-1]\n",
    "\n",
    "هنلاقي انهم 99 لاين احمر واخر خط وصله كان الاسود"
   ]
  },
  {
   "cell_type": "code",
   "execution_count": null,
   "id": "9a96acc1-42a4-4b0a-83c6-23ca3cdfe392",
   "metadata": {},
   "outputs": [],
   "source": []
  },
  {
   "cell_type": "markdown",
   "id": "7c344422-c323-4b35-8af8-d726874ff492",
   "metadata": {
    "tags": []
   },
   "source": [
    "# Regression Keras "
   ]
  },
  {
   "cell_type": "code",
   "execution_count": 51,
   "id": "55255ad2-66ca-46f4-8641-2607b8ba3925",
   "metadata": {},
   "outputs": [],
   "source": [
    "from tensorflow import keras \n",
    "from tensorflow.keras.models import Sequential\n",
    "from tensorflow.keras.layers import Dense"
   ]
  },
  {
   "cell_type": "raw",
   "id": "7377e1a7-3ec8-4178-96a9-a6fbe0deddee",
   "metadata": {},
   "source": [
    "Dense it's fall conected layer "
   ]
  },
  {
   "cell_type": "code",
   "execution_count": 52,
   "id": "6458e7b0-d421-453f-9ee9-6c0eff95cd1b",
   "metadata": {},
   "outputs": [
    {
     "data": {
      "text/html": [
       "<div>\n",
       "<style scoped>\n",
       "    .dataframe tbody tr th:only-of-type {\n",
       "        vertical-align: middle;\n",
       "    }\n",
       "\n",
       "    .dataframe tbody tr th {\n",
       "        vertical-align: top;\n",
       "    }\n",
       "\n",
       "    .dataframe thead th {\n",
       "        text-align: right;\n",
       "    }\n",
       "</style>\n",
       "<table border=\"1\" class=\"dataframe\">\n",
       "  <thead>\n",
       "    <tr style=\"text-align: right;\">\n",
       "      <th></th>\n",
       "      <th>MODELYEAR</th>\n",
       "      <th>Brands</th>\n",
       "      <th>VEHICLECLASS</th>\n",
       "      <th>ENGINESIZE</th>\n",
       "      <th>CYLINDERS</th>\n",
       "      <th>TRANSMISSION</th>\n",
       "      <th>FUELTYPE</th>\n",
       "      <th>FUELCONSUMPTION_CITY</th>\n",
       "      <th>FUELCONSUMPTION_HWY</th>\n",
       "      <th>FUELCONSUMPTION_COMB</th>\n",
       "      <th>FUELCONSUMPTION_COMB_MPG</th>\n",
       "      <th>CO2EMISSIONS</th>\n",
       "    </tr>\n",
       "  </thead>\n",
       "  <tbody>\n",
       "    <tr>\n",
       "      <th>0</th>\n",
       "      <td>2014</td>\n",
       "      <td>ACURA</td>\n",
       "      <td>COMPACT</td>\n",
       "      <td>2.0</td>\n",
       "      <td>4</td>\n",
       "      <td>AS5</td>\n",
       "      <td>Z</td>\n",
       "      <td>9.9</td>\n",
       "      <td>6.7</td>\n",
       "      <td>8.5</td>\n",
       "      <td>33</td>\n",
       "      <td>196</td>\n",
       "    </tr>\n",
       "    <tr>\n",
       "      <th>1</th>\n",
       "      <td>2014</td>\n",
       "      <td>ACURA</td>\n",
       "      <td>COMPACT</td>\n",
       "      <td>2.4</td>\n",
       "      <td>4</td>\n",
       "      <td>M6</td>\n",
       "      <td>Z</td>\n",
       "      <td>11.2</td>\n",
       "      <td>7.7</td>\n",
       "      <td>9.6</td>\n",
       "      <td>29</td>\n",
       "      <td>221</td>\n",
       "    </tr>\n",
       "    <tr>\n",
       "      <th>2</th>\n",
       "      <td>2014</td>\n",
       "      <td>ACURA</td>\n",
       "      <td>COMPACT</td>\n",
       "      <td>1.5</td>\n",
       "      <td>4</td>\n",
       "      <td>AV7</td>\n",
       "      <td>Z</td>\n",
       "      <td>6.0</td>\n",
       "      <td>5.8</td>\n",
       "      <td>5.9</td>\n",
       "      <td>48</td>\n",
       "      <td>136</td>\n",
       "    </tr>\n",
       "    <tr>\n",
       "      <th>3</th>\n",
       "      <td>2014</td>\n",
       "      <td>ACURA</td>\n",
       "      <td>SUV_SMALL</td>\n",
       "      <td>3.5</td>\n",
       "      <td>6</td>\n",
       "      <td>AS6</td>\n",
       "      <td>Z</td>\n",
       "      <td>12.7</td>\n",
       "      <td>9.1</td>\n",
       "      <td>11.1</td>\n",
       "      <td>25</td>\n",
       "      <td>255</td>\n",
       "    </tr>\n",
       "    <tr>\n",
       "      <th>4</th>\n",
       "      <td>2014</td>\n",
       "      <td>ACURA</td>\n",
       "      <td>SUV_SMALL</td>\n",
       "      <td>3.5</td>\n",
       "      <td>6</td>\n",
       "      <td>AS6</td>\n",
       "      <td>Z</td>\n",
       "      <td>12.1</td>\n",
       "      <td>8.7</td>\n",
       "      <td>10.6</td>\n",
       "      <td>27</td>\n",
       "      <td>244</td>\n",
       "    </tr>\n",
       "  </tbody>\n",
       "</table>\n",
       "</div>"
      ],
      "text/plain": [
       "   MODELYEAR Brands VEHICLECLASS  ENGINESIZE  CYLINDERS TRANSMISSION FUELTYPE  \\\n",
       "0       2014  ACURA      COMPACT         2.0          4          AS5        Z   \n",
       "1       2014  ACURA      COMPACT         2.4          4           M6        Z   \n",
       "2       2014  ACURA      COMPACT         1.5          4          AV7        Z   \n",
       "3       2014  ACURA    SUV_SMALL         3.5          6          AS6        Z   \n",
       "4       2014  ACURA    SUV_SMALL         3.5          6          AS6        Z   \n",
       "\n",
       "   FUELCONSUMPTION_CITY  FUELCONSUMPTION_HWY  FUELCONSUMPTION_COMB  \\\n",
       "0                   9.9                  6.7                   8.5   \n",
       "1                  11.2                  7.7                   9.6   \n",
       "2                   6.0                  5.8                   5.9   \n",
       "3                  12.7                  9.1                  11.1   \n",
       "4                  12.1                  8.7                  10.6   \n",
       "\n",
       "   FUELCONSUMPTION_COMB_MPG  CO2EMISSIONS  \n",
       "0                        33           196  \n",
       "1                        29           221  \n",
       "2                        48           136  \n",
       "3                        25           255  \n",
       "4                        27           244  "
      ]
     },
     "execution_count": 52,
     "metadata": {},
     "output_type": "execute_result"
    }
   ],
   "source": [
    "data.head()"
   ]
  },
  {
   "cell_type": "code",
   "execution_count": 54,
   "id": "e09ba7fe-f89e-4b2a-8890-d5ac38ad7086",
   "metadata": {},
   "outputs": [],
   "source": [
    "train_x =data[[\"ENGINESIZE\",\"CYLINDERS\",\"FUELCONSUMPTION_COMB\",\"CO2EMISSIONS\"]]\n",
    "train_y = data[\"CO2EMISSIONS\"].values"
   ]
  },
  {
   "cell_type": "code",
   "execution_count": 56,
   "id": "25a767c5-a928-4052-a0e5-163fdb50edcd",
   "metadata": {},
   "outputs": [],
   "source": [
    "model_Ai20 = Sequential()# يعني احط لاير لير  , layer by layer\n",
    "model_Ai20.add(Dense(20,activation = 'relu',input_dim = 4))\n",
    "model_Ai20.add(Dense(10,activation = 'relu'))\n",
    "model_Ai20.add(Dense(1)) # 1 becouse i's regression , i can add AF or not in this step\n"
   ]
  },
  {
   "cell_type": "code",
   "execution_count": 57,
   "id": "b4bdca92-3de5-42dc-8c3d-93283ff255f0",
   "metadata": {},
   "outputs": [
    {
     "name": "stdout",
     "output_type": "stream",
     "text": [
      "Model: \"sequential\"\n",
      "_________________________________________________________________\n",
      " Layer (type)                Output Shape              Param #   \n",
      "=================================================================\n",
      " dense (Dense)               (None, 20)                100       \n",
      "                                                                 \n",
      " dense_1 (Dense)             (None, 10)                210       \n",
      "                                                                 \n",
      " dense_2 (Dense)             (None, 1)                 11        \n",
      "                                                                 \n",
      "=================================================================\n",
      "Total params: 321\n",
      "Trainable params: 321\n",
      "Non-trainable params: 0\n",
      "_________________________________________________________________\n"
     ]
    }
   ],
   "source": [
    "model_Ai20.summary()"
   ]
  },
  {
   "cell_type": "raw",
   "id": "a9efe01b-52bc-4bdb-a788-4fd41283c5c4",
   "metadata": {},
   "source": [
    "20 perceptron \n",
    "100 parametar\n",
    "---------\n",
    "10 perceptron \n",
    "210 parametar\n",
    "----------\n",
    "1 perceptron \n",
    "11 parameter"
   ]
  },
  {
   "cell_type": "code",
   "execution_count": 59,
   "id": "81272dbe-6ffe-49c9-92f5-cff7e0c6b9d6",
   "metadata": {},
   "outputs": [
    {
     "name": "stdout",
     "output_type": "stream",
     "text": [
      "Epoch 1/200\n",
      "30/30 [==============================] - 1s 7ms/step - loss: 25037.4688 - mse: 25037.4688 - val_loss: 13872.1846 - val_mse: 13872.1846\n",
      "Epoch 2/200\n",
      "30/30 [==============================] - 0s 2ms/step - loss: 11612.6094 - mse: 11612.6094 - val_loss: 4782.8481 - val_mse: 4782.8481\n",
      "Epoch 3/200\n",
      "30/30 [==============================] - 0s 2ms/step - loss: 2929.0698 - mse: 2929.0698 - val_loss: 598.0178 - val_mse: 598.0178\n",
      "Epoch 4/200\n",
      "30/30 [==============================] - 0s 2ms/step - loss: 214.7145 - mse: 214.7145 - val_loss: 6.1862 - val_mse: 6.1862\n",
      "Epoch 5/200\n",
      "30/30 [==============================] - 0s 3ms/step - loss: 2.1746 - mse: 2.1746 - val_loss: 0.3820 - val_mse: 0.3820\n",
      "Epoch 6/200\n",
      "30/30 [==============================] - 0s 3ms/step - loss: 1.5936 - mse: 1.5936 - val_loss: 0.4980 - val_mse: 0.4980\n",
      "Epoch 7/200\n",
      "30/30 [==============================] - 0s 3ms/step - loss: 1.1873 - mse: 1.1873 - val_loss: 0.5866 - val_mse: 0.5866\n",
      "Epoch 8/200\n",
      "30/30 [==============================] - 0s 3ms/step - loss: 1.1868 - mse: 1.1868 - val_loss: 0.5457 - val_mse: 0.5457\n",
      "Epoch 9/200\n",
      "30/30 [==============================] - 0s 3ms/step - loss: 1.1883 - mse: 1.1883 - val_loss: 0.5231 - val_mse: 0.5231\n",
      "Epoch 10/200\n",
      "30/30 [==============================] - 0s 2ms/step - loss: 1.1838 - mse: 1.1838 - val_loss: 0.5298 - val_mse: 0.5298\n",
      "Epoch 11/200\n",
      "30/30 [==============================] - 0s 3ms/step - loss: 1.1845 - mse: 1.1845 - val_loss: 0.5632 - val_mse: 0.5632\n",
      "Epoch 12/200\n",
      "30/30 [==============================] - 0s 2ms/step - loss: 1.1802 - mse: 1.1802 - val_loss: 0.5334 - val_mse: 0.5334\n",
      "Epoch 13/200\n",
      "30/30 [==============================] - 0s 2ms/step - loss: 1.1794 - mse: 1.1794 - val_loss: 0.5395 - val_mse: 0.5395\n",
      "Epoch 14/200\n",
      "30/30 [==============================] - 0s 3ms/step - loss: 1.1784 - mse: 1.1784 - val_loss: 0.5334 - val_mse: 0.5334\n",
      "Epoch 15/200\n",
      "30/30 [==============================] - 0s 2ms/step - loss: 1.1759 - mse: 1.1759 - val_loss: 0.5490 - val_mse: 0.5490\n",
      "Epoch 16/200\n",
      "30/30 [==============================] - 0s 3ms/step - loss: 1.1740 - mse: 1.1740 - val_loss: 0.5398 - val_mse: 0.5398\n",
      "Epoch 17/200\n",
      "30/30 [==============================] - 0s 2ms/step - loss: 1.1821 - mse: 1.1821 - val_loss: 0.5860 - val_mse: 0.5860\n",
      "Epoch 18/200\n",
      "30/30 [==============================] - 0s 3ms/step - loss: 1.1714 - mse: 1.1714 - val_loss: 0.5321 - val_mse: 0.5321\n",
      "Epoch 19/200\n",
      "30/30 [==============================] - 0s 2ms/step - loss: 1.1686 - mse: 1.1686 - val_loss: 0.5469 - val_mse: 0.5469\n",
      "Epoch 20/200\n",
      "30/30 [==============================] - 0s 2ms/step - loss: 1.1689 - mse: 1.1689 - val_loss: 0.5275 - val_mse: 0.5275\n",
      "Epoch 21/200\n",
      "30/30 [==============================] - 0s 2ms/step - loss: 1.1665 - mse: 1.1665 - val_loss: 0.5594 - val_mse: 0.5594\n",
      "Epoch 22/200\n",
      "30/30 [==============================] - 0s 2ms/step - loss: 1.1649 - mse: 1.1649 - val_loss: 0.4933 - val_mse: 0.4933\n",
      "Epoch 23/200\n",
      "30/30 [==============================] - 0s 2ms/step - loss: 1.1604 - mse: 1.1604 - val_loss: 0.5640 - val_mse: 0.5640\n",
      "Epoch 24/200\n",
      "30/30 [==============================] - 0s 2ms/step - loss: 1.1586 - mse: 1.1586 - val_loss: 0.5224 - val_mse: 0.5224\n",
      "Epoch 25/200\n",
      "30/30 [==============================] - 0s 2ms/step - loss: 1.1547 - mse: 1.1547 - val_loss: 0.5518 - val_mse: 0.5518\n",
      "Epoch 26/200\n",
      "30/30 [==============================] - 0s 3ms/step - loss: 1.1529 - mse: 1.1529 - val_loss: 0.5234 - val_mse: 0.5234\n",
      "Epoch 27/200\n",
      "30/30 [==============================] - 0s 2ms/step - loss: 1.1502 - mse: 1.1502 - val_loss: 0.5224 - val_mse: 0.5224\n",
      "Epoch 28/200\n",
      "30/30 [==============================] - 0s 2ms/step - loss: 1.1473 - mse: 1.1473 - val_loss: 0.5137 - val_mse: 0.5137\n",
      "Epoch 29/200\n",
      "30/30 [==============================] - 0s 2ms/step - loss: 1.1452 - mse: 1.1452 - val_loss: 0.5094 - val_mse: 0.5094\n",
      "Epoch 30/200\n",
      "30/30 [==============================] - 0s 2ms/step - loss: 1.1427 - mse: 1.1427 - val_loss: 0.5223 - val_mse: 0.5223\n",
      "Epoch 31/200\n",
      "30/30 [==============================] - 0s 3ms/step - loss: 1.1399 - mse: 1.1399 - val_loss: 0.5400 - val_mse: 0.5400\n",
      "Epoch 32/200\n",
      "30/30 [==============================] - 0s 2ms/step - loss: 1.1387 - mse: 1.1387 - val_loss: 0.5581 - val_mse: 0.5581\n",
      "Epoch 33/200\n",
      "30/30 [==============================] - 0s 3ms/step - loss: 1.1398 - mse: 1.1398 - val_loss: 0.5338 - val_mse: 0.5338\n",
      "Epoch 34/200\n",
      "30/30 [==============================] - 0s 2ms/step - loss: 1.1337 - mse: 1.1337 - val_loss: 0.4988 - val_mse: 0.4988\n",
      "Epoch 35/200\n",
      "30/30 [==============================] - 0s 2ms/step - loss: 1.1301 - mse: 1.1301 - val_loss: 0.5027 - val_mse: 0.5027\n",
      "Epoch 36/200\n",
      "30/30 [==============================] - 0s 2ms/step - loss: 1.1250 - mse: 1.1250 - val_loss: 0.5213 - val_mse: 0.5213\n",
      "Epoch 37/200\n",
      "30/30 [==============================] - 0s 2ms/step - loss: 1.1247 - mse: 1.1247 - val_loss: 0.5824 - val_mse: 0.5824\n",
      "Epoch 38/200\n",
      "30/30 [==============================] - 0s 3ms/step - loss: 1.1208 - mse: 1.1208 - val_loss: 0.5146 - val_mse: 0.5146\n",
      "Epoch 39/200\n",
      "30/30 [==============================] - 0s 3ms/step - loss: 1.1160 - mse: 1.1160 - val_loss: 0.4764 - val_mse: 0.4764\n",
      "Epoch 40/200\n",
      "30/30 [==============================] - 0s 2ms/step - loss: 1.1161 - mse: 1.1161 - val_loss: 0.4561 - val_mse: 0.4561\n",
      "Epoch 41/200\n",
      "30/30 [==============================] - 0s 2ms/step - loss: 1.1077 - mse: 1.1077 - val_loss: 0.5152 - val_mse: 0.5152\n",
      "Epoch 42/200\n",
      "30/30 [==============================] - 0s 2ms/step - loss: 1.1066 - mse: 1.1066 - val_loss: 0.5694 - val_mse: 0.5694\n",
      "Epoch 43/200\n",
      "30/30 [==============================] - 0s 2ms/step - loss: 1.1001 - mse: 1.1001 - val_loss: 0.4430 - val_mse: 0.4430\n",
      "Epoch 44/200\n",
      "30/30 [==============================] - 0s 2ms/step - loss: 1.0984 - mse: 1.0984 - val_loss: 0.5380 - val_mse: 0.5380\n",
      "Epoch 45/200\n",
      "30/30 [==============================] - 0s 3ms/step - loss: 1.0959 - mse: 1.0959 - val_loss: 0.5002 - val_mse: 0.5002\n",
      "Epoch 46/200\n",
      "30/30 [==============================] - 0s 2ms/step - loss: 1.0932 - mse: 1.0932 - val_loss: 0.4950 - val_mse: 0.4950\n",
      "Epoch 47/200\n",
      "30/30 [==============================] - 0s 3ms/step - loss: 1.0896 - mse: 1.0896 - val_loss: 0.6168 - val_mse: 0.6168\n",
      "Epoch 48/200\n",
      "30/30 [==============================] - 0s 2ms/step - loss: 1.0861 - mse: 1.0861 - val_loss: 0.4742 - val_mse: 0.4742\n",
      "Epoch 49/200\n",
      "30/30 [==============================] - 0s 2ms/step - loss: 1.0803 - mse: 1.0803 - val_loss: 0.5448 - val_mse: 0.5448\n",
      "Epoch 50/200\n",
      "30/30 [==============================] - 0s 2ms/step - loss: 1.0779 - mse: 1.0779 - val_loss: 0.4314 - val_mse: 0.4314\n",
      "Epoch 51/200\n",
      "30/30 [==============================] - 0s 3ms/step - loss: 1.0747 - mse: 1.0747 - val_loss: 0.4524 - val_mse: 0.4524\n",
      "Epoch 52/200\n",
      "30/30 [==============================] - 0s 3ms/step - loss: 1.0739 - mse: 1.0739 - val_loss: 0.5667 - val_mse: 0.5667\n",
      "Epoch 53/200\n",
      "30/30 [==============================] - 0s 2ms/step - loss: 1.0689 - mse: 1.0689 - val_loss: 0.5460 - val_mse: 0.5460\n",
      "Epoch 54/200\n",
      "30/30 [==============================] - 0s 3ms/step - loss: 1.0580 - mse: 1.0580 - val_loss: 0.4652 - val_mse: 0.4652\n",
      "Epoch 55/200\n",
      "30/30 [==============================] - 0s 2ms/step - loss: 1.0541 - mse: 1.0541 - val_loss: 0.4791 - val_mse: 0.4791\n",
      "Epoch 56/200\n",
      "30/30 [==============================] - 0s 2ms/step - loss: 1.0574 - mse: 1.0574 - val_loss: 0.4891 - val_mse: 0.4891\n",
      "Epoch 57/200\n",
      "30/30 [==============================] - 0s 3ms/step - loss: 1.0475 - mse: 1.0475 - val_loss: 0.4828 - val_mse: 0.4828\n",
      "Epoch 58/200\n",
      "30/30 [==============================] - 0s 2ms/step - loss: 1.0404 - mse: 1.0404 - val_loss: 0.4649 - val_mse: 0.4649\n",
      "Epoch 59/200\n",
      "30/30 [==============================] - 0s 2ms/step - loss: 1.0376 - mse: 1.0376 - val_loss: 0.4412 - val_mse: 0.4412\n",
      "Epoch 60/200\n",
      "30/30 [==============================] - 0s 3ms/step - loss: 1.0414 - mse: 1.0414 - val_loss: 0.4564 - val_mse: 0.4564\n",
      "Epoch 61/200\n",
      "30/30 [==============================] - 0s 2ms/step - loss: 1.0331 - mse: 1.0331 - val_loss: 0.3587 - val_mse: 0.3587\n",
      "Epoch 62/200\n",
      "30/30 [==============================] - 0s 2ms/step - loss: 1.0284 - mse: 1.0284 - val_loss: 0.4318 - val_mse: 0.4318\n",
      "Epoch 63/200\n",
      "30/30 [==============================] - 0s 2ms/step - loss: 1.0213 - mse: 1.0213 - val_loss: 0.4146 - val_mse: 0.4146\n",
      "Epoch 64/200\n",
      "30/30 [==============================] - 0s 3ms/step - loss: 1.0218 - mse: 1.0218 - val_loss: 0.5507 - val_mse: 0.5507\n",
      "Epoch 65/200\n",
      "30/30 [==============================] - 0s 2ms/step - loss: 1.0074 - mse: 1.0074 - val_loss: 0.5304 - val_mse: 0.5304\n",
      "Epoch 66/200\n",
      "30/30 [==============================] - 0s 3ms/step - loss: 1.0202 - mse: 1.0202 - val_loss: 0.5003 - val_mse: 0.5003\n",
      "Epoch 67/200\n",
      "30/30 [==============================] - 0s 2ms/step - loss: 1.0072 - mse: 1.0072 - val_loss: 0.4812 - val_mse: 0.4812\n",
      "Epoch 68/200\n",
      "30/30 [==============================] - 0s 2ms/step - loss: 0.9960 - mse: 0.9960 - val_loss: 0.3778 - val_mse: 0.3778\n",
      "Epoch 69/200\n",
      "30/30 [==============================] - 0s 2ms/step - loss: 0.9959 - mse: 0.9959 - val_loss: 0.4233 - val_mse: 0.4233\n",
      "Epoch 70/200\n",
      "30/30 [==============================] - 0s 3ms/step - loss: 0.9827 - mse: 0.9827 - val_loss: 0.4717 - val_mse: 0.4717\n",
      "Epoch 71/200\n",
      "30/30 [==============================] - 0s 2ms/step - loss: 0.9829 - mse: 0.9829 - val_loss: 0.3561 - val_mse: 0.3561\n",
      "Epoch 72/200\n",
      "30/30 [==============================] - 0s 2ms/step - loss: 0.9779 - mse: 0.9779 - val_loss: 0.4282 - val_mse: 0.4282\n",
      "Epoch 73/200\n",
      "30/30 [==============================] - 0s 2ms/step - loss: 0.9689 - mse: 0.9689 - val_loss: 0.5633 - val_mse: 0.5633\n",
      "Epoch 74/200\n",
      "30/30 [==============================] - 0s 3ms/step - loss: 0.9683 - mse: 0.9683 - val_loss: 0.4216 - val_mse: 0.4216\n",
      "Epoch 75/200\n",
      "30/30 [==============================] - 0s 2ms/step - loss: 0.9662 - mse: 0.9662 - val_loss: 0.4443 - val_mse: 0.4443\n",
      "Epoch 76/200\n",
      "30/30 [==============================] - 0s 3ms/step - loss: 0.9540 - mse: 0.9540 - val_loss: 0.5371 - val_mse: 0.5371\n",
      "Epoch 77/200\n",
      "30/30 [==============================] - 0s 2ms/step - loss: 0.9473 - mse: 0.9473 - val_loss: 0.4763 - val_mse: 0.4763\n",
      "Epoch 78/200\n",
      "30/30 [==============================] - 0s 2ms/step - loss: 0.9537 - mse: 0.9537 - val_loss: 0.5123 - val_mse: 0.5123\n",
      "Epoch 79/200\n",
      "30/30 [==============================] - 0s 2ms/step - loss: 0.9318 - mse: 0.9318 - val_loss: 0.3878 - val_mse: 0.3878\n",
      "Epoch 80/200\n",
      "30/30 [==============================] - 0s 3ms/step - loss: 0.9283 - mse: 0.9283 - val_loss: 0.3619 - val_mse: 0.3619\n",
      "Epoch 81/200\n",
      "30/30 [==============================] - 0s 6ms/step - loss: 0.9228 - mse: 0.9228 - val_loss: 0.4414 - val_mse: 0.4414\n",
      "Epoch 82/200\n",
      "30/30 [==============================] - 0s 3ms/step - loss: 0.9165 - mse: 0.9165 - val_loss: 0.4096 - val_mse: 0.4096\n",
      "Epoch 83/200\n",
      "30/30 [==============================] - 0s 4ms/step - loss: 0.9264 - mse: 0.9264 - val_loss: 0.4336 - val_mse: 0.4336\n",
      "Epoch 84/200\n",
      "30/30 [==============================] - 0s 3ms/step - loss: 0.9024 - mse: 0.9024 - val_loss: 0.3619 - val_mse: 0.3619\n",
      "Epoch 85/200\n",
      "30/30 [==============================] - 0s 3ms/step - loss: 0.9010 - mse: 0.9010 - val_loss: 0.3126 - val_mse: 0.3126\n",
      "Epoch 86/200\n",
      "30/30 [==============================] - 0s 2ms/step - loss: 0.8963 - mse: 0.8963 - val_loss: 0.3788 - val_mse: 0.3788\n",
      "Epoch 87/200\n",
      "30/30 [==============================] - 0s 2ms/step - loss: 0.8945 - mse: 0.8945 - val_loss: 0.3828 - val_mse: 0.3828\n",
      "Epoch 88/200\n",
      "30/30 [==============================] - 0s 2ms/step - loss: 0.8780 - mse: 0.8780 - val_loss: 0.3476 - val_mse: 0.3476\n",
      "Epoch 89/200\n",
      "30/30 [==============================] - 0s 3ms/step - loss: 0.8810 - mse: 0.8810 - val_loss: 0.4038 - val_mse: 0.4038\n",
      "Epoch 90/200\n",
      "30/30 [==============================] - 0s 2ms/step - loss: 0.8715 - mse: 0.8715 - val_loss: 0.5122 - val_mse: 0.5122\n",
      "Epoch 91/200\n",
      "30/30 [==============================] - 0s 3ms/step - loss: 0.8645 - mse: 0.8645 - val_loss: 0.3514 - val_mse: 0.3514\n",
      "Epoch 92/200\n",
      "30/30 [==============================] - 0s 2ms/step - loss: 0.8589 - mse: 0.8589 - val_loss: 0.3977 - val_mse: 0.3977\n",
      "Epoch 93/200\n",
      "30/30 [==============================] - 0s 3ms/step - loss: 0.8468 - mse: 0.8468 - val_loss: 0.4084 - val_mse: 0.4084\n",
      "Epoch 94/200\n",
      "30/30 [==============================] - 0s 2ms/step - loss: 0.8418 - mse: 0.8418 - val_loss: 0.3934 - val_mse: 0.3934\n",
      "Epoch 95/200\n",
      "30/30 [==============================] - 0s 3ms/step - loss: 0.8343 - mse: 0.8343 - val_loss: 0.5831 - val_mse: 0.5831\n",
      "Epoch 96/200\n",
      "30/30 [==============================] - 0s 3ms/step - loss: 0.8520 - mse: 0.8520 - val_loss: 0.4864 - val_mse: 0.4864\n",
      "Epoch 97/200\n",
      "30/30 [==============================] - 0s 2ms/step - loss: 0.8328 - mse: 0.8328 - val_loss: 0.3543 - val_mse: 0.3543\n",
      "Epoch 98/200\n",
      "30/30 [==============================] - 0s 3ms/step - loss: 0.8124 - mse: 0.8124 - val_loss: 0.2899 - val_mse: 0.2899\n",
      "Epoch 99/200\n",
      "30/30 [==============================] - 0s 2ms/step - loss: 0.8401 - mse: 0.8401 - val_loss: 0.3033 - val_mse: 0.3033\n",
      "Epoch 100/200\n",
      "30/30 [==============================] - 0s 3ms/step - loss: 0.8020 - mse: 0.8020 - val_loss: 0.4370 - val_mse: 0.4370\n",
      "Epoch 101/200\n",
      "30/30 [==============================] - 0s 3ms/step - loss: 0.8004 - mse: 0.8004 - val_loss: 0.4364 - val_mse: 0.4364\n",
      "Epoch 102/200\n",
      "30/30 [==============================] - 0s 3ms/step - loss: 0.7905 - mse: 0.7905 - val_loss: 0.4871 - val_mse: 0.4871\n",
      "Epoch 103/200\n",
      "30/30 [==============================] - 0s 2ms/step - loss: 0.8043 - mse: 0.8043 - val_loss: 0.2633 - val_mse: 0.2633\n",
      "Epoch 104/200\n",
      "30/30 [==============================] - 0s 2ms/step - loss: 0.7811 - mse: 0.7811 - val_loss: 0.3224 - val_mse: 0.3224\n",
      "Epoch 105/200\n",
      "30/30 [==============================] - 0s 3ms/step - loss: 0.7667 - mse: 0.7667 - val_loss: 0.4327 - val_mse: 0.4327\n",
      "Epoch 106/200\n",
      "30/30 [==============================] - 0s 3ms/step - loss: 0.7707 - mse: 0.7707 - val_loss: 0.2629 - val_mse: 0.2629\n",
      "Epoch 107/200\n",
      "30/30 [==============================] - 0s 3ms/step - loss: 0.7576 - mse: 0.7576 - val_loss: 0.3490 - val_mse: 0.3490\n",
      "Epoch 108/200\n",
      "30/30 [==============================] - 0s 3ms/step - loss: 0.7467 - mse: 0.7467 - val_loss: 0.3269 - val_mse: 0.3269\n",
      "Epoch 109/200\n",
      "30/30 [==============================] - 0s 2ms/step - loss: 0.7342 - mse: 0.7342 - val_loss: 0.2578 - val_mse: 0.2578\n",
      "Epoch 110/200\n",
      "30/30 [==============================] - 0s 2ms/step - loss: 0.7336 - mse: 0.7336 - val_loss: 0.2896 - val_mse: 0.2896\n",
      "Epoch 111/200\n",
      "30/30 [==============================] - 0s 2ms/step - loss: 0.7329 - mse: 0.7329 - val_loss: 0.2623 - val_mse: 0.2623\n",
      "Epoch 112/200\n",
      "30/30 [==============================] - 0s 3ms/step - loss: 0.7188 - mse: 0.7188 - val_loss: 0.3413 - val_mse: 0.3413\n",
      "Epoch 113/200\n",
      "30/30 [==============================] - 0s 3ms/step - loss: 0.7144 - mse: 0.7144 - val_loss: 0.2604 - val_mse: 0.2604\n",
      "Epoch 114/200\n",
      "30/30 [==============================] - 0s 2ms/step - loss: 0.7102 - mse: 0.7102 - val_loss: 0.2261 - val_mse: 0.2261\n",
      "Epoch 115/200\n",
      "30/30 [==============================] - 0s 2ms/step - loss: 0.7110 - mse: 0.7110 - val_loss: 0.4226 - val_mse: 0.4226\n",
      "Epoch 116/200\n",
      "30/30 [==============================] - 0s 2ms/step - loss: 0.6952 - mse: 0.6952 - val_loss: 0.3155 - val_mse: 0.3155\n",
      "Epoch 117/200\n",
      "30/30 [==============================] - 0s 3ms/step - loss: 0.6815 - mse: 0.6815 - val_loss: 0.3206 - val_mse: 0.3206\n",
      "Epoch 118/200\n",
      "30/30 [==============================] - 0s 3ms/step - loss: 0.6733 - mse: 0.6733 - val_loss: 0.3408 - val_mse: 0.3408\n",
      "Epoch 119/200\n",
      "30/30 [==============================] - 0s 3ms/step - loss: 0.6771 - mse: 0.6771 - val_loss: 0.3324 - val_mse: 0.3324\n",
      "Epoch 120/200\n",
      "30/30 [==============================] - 0s 2ms/step - loss: 0.6634 - mse: 0.6634 - val_loss: 0.2429 - val_mse: 0.2429\n",
      "Epoch 121/200\n",
      "30/30 [==============================] - 0s 3ms/step - loss: 0.6829 - mse: 0.6829 - val_loss: 0.3179 - val_mse: 0.3179\n",
      "Epoch 122/200\n",
      "30/30 [==============================] - 0s 2ms/step - loss: 0.6561 - mse: 0.6561 - val_loss: 0.1789 - val_mse: 0.1789\n",
      "Epoch 123/200\n",
      "30/30 [==============================] - 0s 2ms/step - loss: 0.6414 - mse: 0.6414 - val_loss: 0.2125 - val_mse: 0.2125\n",
      "Epoch 124/200\n",
      "30/30 [==============================] - 0s 3ms/step - loss: 0.6270 - mse: 0.6270 - val_loss: 0.2801 - val_mse: 0.2801\n",
      "Epoch 125/200\n",
      "30/30 [==============================] - 0s 2ms/step - loss: 0.6194 - mse: 0.6194 - val_loss: 0.2491 - val_mse: 0.2491\n",
      "Epoch 126/200\n",
      "30/30 [==============================] - 0s 3ms/step - loss: 0.6164 - mse: 0.6164 - val_loss: 0.2460 - val_mse: 0.2460\n",
      "Epoch 127/200\n",
      "30/30 [==============================] - 0s 3ms/step - loss: 0.6034 - mse: 0.6034 - val_loss: 0.3066 - val_mse: 0.3066\n",
      "Epoch 128/200\n",
      "30/30 [==============================] - 0s 3ms/step - loss: 0.5948 - mse: 0.5948 - val_loss: 0.3215 - val_mse: 0.3215\n",
      "Epoch 129/200\n",
      "30/30 [==============================] - 0s 3ms/step - loss: 0.5974 - mse: 0.5974 - val_loss: 0.2112 - val_mse: 0.2112\n",
      "Epoch 130/200\n",
      "30/30 [==============================] - 0s 2ms/step - loss: 0.5831 - mse: 0.5831 - val_loss: 0.3874 - val_mse: 0.3874\n",
      "Epoch 131/200\n",
      "30/30 [==============================] - 0s 3ms/step - loss: 0.5936 - mse: 0.5936 - val_loss: 0.2833 - val_mse: 0.2833\n",
      "Epoch 132/200\n",
      "30/30 [==============================] - 0s 2ms/step - loss: 0.5768 - mse: 0.5768 - val_loss: 0.2253 - val_mse: 0.2253\n",
      "Epoch 133/200\n",
      "30/30 [==============================] - 0s 3ms/step - loss: 0.5558 - mse: 0.5558 - val_loss: 0.1961 - val_mse: 0.1961\n",
      "Epoch 134/200\n",
      "30/30 [==============================] - 0s 4ms/step - loss: 0.5558 - mse: 0.5558 - val_loss: 0.2780 - val_mse: 0.2780\n",
      "Epoch 135/200\n",
      "30/30 [==============================] - 0s 3ms/step - loss: 0.5595 - mse: 0.5595 - val_loss: 0.1927 - val_mse: 0.1927\n",
      "Epoch 136/200\n",
      "30/30 [==============================] - 0s 3ms/step - loss: 0.5474 - mse: 0.5474 - val_loss: 0.2929 - val_mse: 0.2929\n",
      "Epoch 137/200\n",
      "30/30 [==============================] - 0s 2ms/step - loss: 0.5281 - mse: 0.5281 - val_loss: 0.2143 - val_mse: 0.2143\n",
      "Epoch 138/200\n",
      "30/30 [==============================] - 0s 3ms/step - loss: 0.5318 - mse: 0.5318 - val_loss: 0.1427 - val_mse: 0.1427\n",
      "Epoch 139/200\n",
      "30/30 [==============================] - 0s 2ms/step - loss: 0.5230 - mse: 0.5230 - val_loss: 0.3801 - val_mse: 0.3801\n",
      "Epoch 140/200\n",
      "30/30 [==============================] - 0s 2ms/step - loss: 0.5190 - mse: 0.5190 - val_loss: 0.1771 - val_mse: 0.1771\n",
      "Epoch 141/200\n",
      "30/30 [==============================] - 0s 2ms/step - loss: 0.5021 - mse: 0.5021 - val_loss: 0.2499 - val_mse: 0.2499\n",
      "Epoch 142/200\n",
      "30/30 [==============================] - 0s 3ms/step - loss: 0.4944 - mse: 0.4944 - val_loss: 0.1577 - val_mse: 0.1577\n",
      "Epoch 143/200\n",
      "30/30 [==============================] - 0s 3ms/step - loss: 0.4861 - mse: 0.4861 - val_loss: 0.1505 - val_mse: 0.1505\n",
      "Epoch 144/200\n",
      "30/30 [==============================] - 0s 3ms/step - loss: 0.4794 - mse: 0.4794 - val_loss: 0.1584 - val_mse: 0.1584\n",
      "Epoch 145/200\n",
      "30/30 [==============================] - 0s 2ms/step - loss: 0.4649 - mse: 0.4649 - val_loss: 0.2664 - val_mse: 0.2664\n",
      "Epoch 146/200\n",
      "30/30 [==============================] - 0s 2ms/step - loss: 0.4610 - mse: 0.4610 - val_loss: 0.1689 - val_mse: 0.1689\n",
      "Epoch 147/200\n",
      "30/30 [==============================] - 0s 2ms/step - loss: 0.4556 - mse: 0.4556 - val_loss: 0.1558 - val_mse: 0.1558\n",
      "Epoch 148/200\n",
      "30/30 [==============================] - 0s 3ms/step - loss: 0.4452 - mse: 0.4452 - val_loss: 0.1459 - val_mse: 0.1459\n",
      "Epoch 149/200\n",
      "30/30 [==============================] - 0s 2ms/step - loss: 0.4434 - mse: 0.4434 - val_loss: 0.1863 - val_mse: 0.1863\n",
      "Epoch 150/200\n",
      "30/30 [==============================] - 0s 4ms/step - loss: 0.4268 - mse: 0.4268 - val_loss: 0.1965 - val_mse: 0.1965\n",
      "Epoch 151/200\n",
      "30/30 [==============================] - 0s 3ms/step - loss: 0.4202 - mse: 0.4202 - val_loss: 0.2619 - val_mse: 0.2619\n",
      "Epoch 152/200\n",
      "30/30 [==============================] - 0s 3ms/step - loss: 0.4193 - mse: 0.4193 - val_loss: 0.2061 - val_mse: 0.2061\n",
      "Epoch 153/200\n",
      "30/30 [==============================] - 0s 3ms/step - loss: 0.4224 - mse: 0.4224 - val_loss: 0.2651 - val_mse: 0.2651\n",
      "Epoch 154/200\n",
      "30/30 [==============================] - 0s 3ms/step - loss: 0.4089 - mse: 0.4089 - val_loss: 0.1311 - val_mse: 0.1311\n",
      "Epoch 155/200\n",
      "30/30 [==============================] - 0s 3ms/step - loss: 0.3992 - mse: 0.3992 - val_loss: 0.2512 - val_mse: 0.2512\n",
      "Epoch 156/200\n",
      "30/30 [==============================] - 0s 3ms/step - loss: 0.4073 - mse: 0.4073 - val_loss: 0.2115 - val_mse: 0.2115\n",
      "Epoch 157/200\n",
      "30/30 [==============================] - 0s 3ms/step - loss: 0.3908 - mse: 0.3908 - val_loss: 0.1165 - val_mse: 0.1165\n",
      "Epoch 158/200\n",
      "30/30 [==============================] - 0s 3ms/step - loss: 0.3710 - mse: 0.3710 - val_loss: 0.2551 - val_mse: 0.2551\n",
      "Epoch 159/200\n",
      "30/30 [==============================] - 0s 3ms/step - loss: 0.3860 - mse: 0.3860 - val_loss: 0.2254 - val_mse: 0.2254\n",
      "Epoch 160/200\n",
      "30/30 [==============================] - 0s 3ms/step - loss: 0.3623 - mse: 0.3623 - val_loss: 0.1683 - val_mse: 0.1683\n",
      "Epoch 161/200\n",
      "30/30 [==============================] - 0s 3ms/step - loss: 0.3508 - mse: 0.3508 - val_loss: 0.1398 - val_mse: 0.1398\n",
      "Epoch 162/200\n",
      "30/30 [==============================] - 0s 3ms/step - loss: 0.3445 - mse: 0.3445 - val_loss: 0.1345 - val_mse: 0.1345\n",
      "Epoch 163/200\n",
      "30/30 [==============================] - 0s 3ms/step - loss: 0.3408 - mse: 0.3408 - val_loss: 0.1456 - val_mse: 0.1456\n",
      "Epoch 164/200\n",
      "30/30 [==============================] - 0s 3ms/step - loss: 0.3303 - mse: 0.3303 - val_loss: 0.1008 - val_mse: 0.1008\n",
      "Epoch 165/200\n",
      "30/30 [==============================] - 0s 3ms/step - loss: 0.3376 - mse: 0.3376 - val_loss: 0.1262 - val_mse: 0.1262\n",
      "Epoch 166/200\n",
      "30/30 [==============================] - 0s 3ms/step - loss: 0.3156 - mse: 0.3156 - val_loss: 0.1045 - val_mse: 0.1045\n",
      "Epoch 167/200\n",
      "30/30 [==============================] - 0s 3ms/step - loss: 0.3125 - mse: 0.3125 - val_loss: 0.1621 - val_mse: 0.1621\n",
      "Epoch 168/200\n",
      "30/30 [==============================] - 0s 2ms/step - loss: 0.3061 - mse: 0.3061 - val_loss: 0.1003 - val_mse: 0.1003\n",
      "Epoch 169/200\n",
      "30/30 [==============================] - 0s 2ms/step - loss: 0.2985 - mse: 0.2985 - val_loss: 0.1166 - val_mse: 0.1166\n",
      "Epoch 170/200\n",
      "30/30 [==============================] - 0s 3ms/step - loss: 0.2885 - mse: 0.2885 - val_loss: 0.1138 - val_mse: 0.1138\n",
      "Epoch 171/200\n",
      "30/30 [==============================] - 0s 3ms/step - loss: 0.2847 - mse: 0.2847 - val_loss: 0.0768 - val_mse: 0.0768\n",
      "Epoch 172/200\n",
      "30/30 [==============================] - 0s 3ms/step - loss: 0.3064 - mse: 0.3064 - val_loss: 0.1136 - val_mse: 0.1136\n",
      "Epoch 173/200\n",
      "30/30 [==============================] - 0s 3ms/step - loss: 0.2685 - mse: 0.2685 - val_loss: 0.0951 - val_mse: 0.0951\n",
      "Epoch 174/200\n",
      "30/30 [==============================] - 0s 3ms/step - loss: 0.2633 - mse: 0.2633 - val_loss: 0.1698 - val_mse: 0.1698\n",
      "Epoch 175/200\n",
      "30/30 [==============================] - 0s 3ms/step - loss: 0.2580 - mse: 0.2580 - val_loss: 0.1077 - val_mse: 0.1077\n",
      "Epoch 176/200\n",
      "30/30 [==============================] - 0s 2ms/step - loss: 0.2630 - mse: 0.2630 - val_loss: 0.2058 - val_mse: 0.2058\n",
      "Epoch 177/200\n",
      "30/30 [==============================] - 0s 3ms/step - loss: 0.2494 - mse: 0.2494 - val_loss: 0.1072 - val_mse: 0.1072\n",
      "Epoch 178/200\n",
      "30/30 [==============================] - 0s 3ms/step - loss: 0.2385 - mse: 0.2385 - val_loss: 0.1177 - val_mse: 0.1177\n",
      "Epoch 179/200\n",
      "30/30 [==============================] - 0s 3ms/step - loss: 0.2341 - mse: 0.2341 - val_loss: 0.1326 - val_mse: 0.1326\n",
      "Epoch 180/200\n",
      "30/30 [==============================] - 0s 3ms/step - loss: 0.2309 - mse: 0.2309 - val_loss: 0.0920 - val_mse: 0.0920\n",
      "Epoch 181/200\n",
      "30/30 [==============================] - 0s 3ms/step - loss: 0.2369 - mse: 0.2369 - val_loss: 0.1533 - val_mse: 0.1533\n",
      "Epoch 182/200\n",
      "30/30 [==============================] - 0s 3ms/step - loss: 0.2204 - mse: 0.2204 - val_loss: 0.0712 - val_mse: 0.0712\n",
      "Epoch 183/200\n",
      "30/30 [==============================] - 0s 3ms/step - loss: 0.2124 - mse: 0.2124 - val_loss: 0.0777 - val_mse: 0.0777\n",
      "Epoch 184/200\n",
      "30/30 [==============================] - 0s 3ms/step - loss: 0.2065 - mse: 0.2065 - val_loss: 0.1589 - val_mse: 0.1589\n",
      "Epoch 185/200\n",
      "30/30 [==============================] - 0s 3ms/step - loss: 0.2123 - mse: 0.2123 - val_loss: 0.1357 - val_mse: 0.1357\n",
      "Epoch 186/200\n",
      "30/30 [==============================] - 0s 3ms/step - loss: 0.2056 - mse: 0.2056 - val_loss: 0.1243 - val_mse: 0.1243\n",
      "Epoch 187/200\n",
      "30/30 [==============================] - 0s 3ms/step - loss: 0.2166 - mse: 0.2166 - val_loss: 0.0583 - val_mse: 0.0583\n",
      "Epoch 188/200\n",
      "30/30 [==============================] - 0s 3ms/step - loss: 0.1903 - mse: 0.1903 - val_loss: 0.0943 - val_mse: 0.0943\n",
      "Epoch 189/200\n",
      "30/30 [==============================] - 0s 3ms/step - loss: 0.1847 - mse: 0.1847 - val_loss: 0.0580 - val_mse: 0.0580\n",
      "Epoch 190/200\n",
      "30/30 [==============================] - 0s 3ms/step - loss: 0.1907 - mse: 0.1907 - val_loss: 0.0875 - val_mse: 0.0875\n",
      "Epoch 191/200\n",
      "30/30 [==============================] - 0s 3ms/step - loss: 0.1702 - mse: 0.1702 - val_loss: 0.0552 - val_mse: 0.0552\n",
      "Epoch 192/200\n",
      "30/30 [==============================] - 0s 3ms/step - loss: 0.1758 - mse: 0.1758 - val_loss: 0.1058 - val_mse: 0.1058\n",
      "Epoch 193/200\n",
      "30/30 [==============================] - 0s 3ms/step - loss: 0.1659 - mse: 0.1659 - val_loss: 0.0574 - val_mse: 0.0574\n",
      "Epoch 194/200\n",
      "30/30 [==============================] - 0s 5ms/step - loss: 0.1556 - mse: 0.1556 - val_loss: 0.0852 - val_mse: 0.0852\n",
      "Epoch 195/200\n",
      "30/30 [==============================] - 0s 4ms/step - loss: 0.1548 - mse: 0.1548 - val_loss: 0.0519 - val_mse: 0.0519\n",
      "Epoch 196/200\n",
      "30/30 [==============================] - 0s 3ms/step - loss: 0.1460 - mse: 0.1460 - val_loss: 0.0511 - val_mse: 0.0511\n",
      "Epoch 197/200\n",
      "30/30 [==============================] - 0s 5ms/step - loss: 0.1470 - mse: 0.1470 - val_loss: 0.0750 - val_mse: 0.0750\n",
      "Epoch 198/200\n",
      "30/30 [==============================] - 0s 3ms/step - loss: 0.1357 - mse: 0.1357 - val_loss: 0.0472 - val_mse: 0.0472\n",
      "Epoch 199/200\n",
      "30/30 [==============================] - 0s 3ms/step - loss: 0.1386 - mse: 0.1386 - val_loss: 0.0527 - val_mse: 0.0527\n",
      "Epoch 200/200\n",
      "30/30 [==============================] - 0s 3ms/step - loss: 0.1293 - mse: 0.1293 - val_loss: 0.0742 - val_mse: 0.0742\n"
     ]
    }
   ],
   "source": [
    "model_Ai20.compile(optimizer = 'adam' , loss ='mse' ,metrics = ['mse'])\n",
    "history = model_Ai20.fit(train_x ,train_y ,epochs = 200,verbose =2 ,validation_split =0.1)"
   ]
  },
  {
   "cell_type": "code",
   "execution_count": null,
   "id": "8ff5cc6e-65c7-44ef-95fb-71084f9a38d9",
   "metadata": {},
   "outputs": [],
   "source": [
    "هنا بيقلي كل خليه وصلت لفين وادربت ل ايه \n",
    "\n",
    "لو لقيت الفاليداشن بتاعي بيزيد تاني وعند اللوس بيقل وقتها اوقف هنا \n",
    "\n",
    "لان كدا هيبقي ادرب زياده عن اللزوم \n",
    "overfitting using --> early stop\n"
   ]
  },
  {
   "cell_type": "code",
   "execution_count": null,
   "id": "f4412eb6-1843-4afd-8d7b-51cb65890042",
   "metadata": {},
   "outputs": [],
   "source": []
  },
  {
   "cell_type": "code",
   "execution_count": null,
   "id": "f132513d-f006-4574-af19-3ef9167fdeb1",
   "metadata": {},
   "outputs": [],
   "source": []
  },
  {
   "cell_type": "code",
   "execution_count": null,
   "id": "a88f4ead-aa02-4777-a2d5-2c8d7c064431",
   "metadata": {},
   "outputs": [],
   "source": []
  }
 ],
 "metadata": {
  "kernelspec": {
   "display_name": "Python 3 (ipykernel)",
   "language": "python",
   "name": "python3"
  },
  "language_info": {
   "codemirror_mode": {
    "name": "ipython",
    "version": 3
   },
   "file_extension": ".py",
   "mimetype": "text/x-python",
   "name": "python",
   "nbconvert_exporter": "python",
   "pygments_lexer": "ipython3",
   "version": "3.9.7"
  }
 },
 "nbformat": 4,
 "nbformat_minor": 5
}
