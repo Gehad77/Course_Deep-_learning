{
 "cells": [
  {
   "cell_type": "markdown",
   "metadata": {
    "id": "Zlfx-LTxvyZ0"
   },
   "source": [
    "MNIST"
   ]
  },
  {
   "cell_type": "code",
   "execution_count": 1,
   "metadata": {
    "id": "iHrvagVNujyI"
   },
   "outputs": [],
   "source": [
    "from tensorflow.keras.datasets import mnist\n",
    "import numpy as np\n",
    "import matplotlib.pyplot as plt \n"
   ]
  },
  {
   "cell_type": "code",
   "execution_count": 2,
   "metadata": {
    "colab": {
     "base_uri": "https://localhost:8080/"
    },
    "id": "kSVgHJukwB3W",
    "outputId": "0857e215-d957-4a4c-9471-2490cb588710"
   },
   "outputs": [],
   "source": [
    "(train_X,train_y),(test_X,test_y)=mnist.load_data()"
   ]
  },
  {
   "cell_type": "code",
   "execution_count": 3,
   "metadata": {
    "colab": {
     "base_uri": "https://localhost:8080/",
     "height": 281
    },
    "id": "FSJPQSEXwkTd",
    "outputId": "5165c4be-b692-4c92-884f-d1676b30b8f3"
   },
   "outputs": [
    {
     "data": {
      "image/png": "[encoded data removed]",
      "text/plain": [
       "<Figure size 432x288 with 1 Axes>"
      ]
     },
     "metadata": {
      "needs_background": "light"
     },
     "output_type": "display_data"
    }
   ],
   "source": [
    "plt.imshow(train_X[0],cmap='gray')\n",
    "plt.title(train_y[0])\n",
    "plt.show()"
   ]
  },
  {
   "cell_type": "code",
   "execution_count": 4,
   "metadata": {
    "id": "YphNsBfQw5vh"
   },
   "outputs": [],
   "source": [
    "#each pixel 0-->255\n",
    "train_X=train_X/255\n",
    "test_X=test_X/255"
   ]
  },
  {
   "cell_type": "code",
   "execution_count": 5,
   "metadata": {
    "colab": {
     "base_uri": "https://localhost:8080/"
    },
    "id": "eNanvyhOyU3B",
    "outputId": "03488fc3-1eb8-4d25-c962-00fa71169320"
   },
   "outputs": [
    {
     "data": {
      "text/plain": [
       "(28, 28)"
      ]
     },
     "execution_count": 5,
     "metadata": {},
     "output_type": "execute_result"
    }
   ],
   "source": [
    "train_X[0].shape"
   ]
  },
  {
   "cell_type": "markdown",
   "metadata": {
    "id": "SOQCaoR_xhOJ"
   },
   "source": [
    "# Model "
   ]
  },
  {
   "cell_type": "code",
   "execution_count": 6,
   "metadata": {
    "id": "3t3vtBKaxcjv"
   },
   "outputs": [],
   "source": [
    "from tensorflow.keras.models import Model,Sequential\n",
    "from tensorflow.keras.layers import Dense,Flatten,Dropout,Reshape,Input"
   ]
  },
  {
   "cell_type": "code",
   "execution_count": 7,
   "metadata": {
    "id": "wg0vPtX3x1m1"
   },
   "outputs": [],
   "source": [
    "latent_size=32\n",
    "# Encoder Archeticture\n",
    "encoder=Sequential()\n",
    "encoder.add(Flatten(input_shape=(28,28)))\n",
    "encoder.add(Dense(512)),\n",
    "encoder.add(Dropout(0.5))\n",
    "encoder.add(Dense(128)),\n",
    "encoder.add(Dropout(0.5))\n",
    "encoder.add(Dense(64))\n",
    "encoder.add(Dropout(0.5))\n",
    "encoder.add(Dense(latent_size,activation='sigmoid'))"
   ]
  },
  {
   "cell_type": "code",
   "execution_count": 8,
   "metadata": {
    "id": "AfoexyXJzXi5"
   },
   "outputs": [],
   "source": [
    "#Decoder Archeticture\n",
    "decoder=Sequential()\n",
    "decoder.add(Dense(64,input_shape=(latent_size,)))\n",
    "decoder.add(Dropout(0.5))\n",
    "decoder.add(Dense(128))\n",
    "decoder.add(Dropout(0.5))\n",
    "decoder.add(Dense(512))\n",
    "decoder.add(Dropout(0.5))\n",
    "decoder.add(Dense(784,activation='sigmoid'))\n",
    "decoder.add(Reshape((28,28)))"
   ]
  },
  {
   "cell_type": "code",
   "execution_count": 9,
   "metadata": {
    "id": "uCofKE0v04YY"
   },
   "outputs": [],
   "source": [
    "img=Input(shape=(28,28))\n",
    "latent_vector=encoder(img)\n",
    "output=decoder(latent_vector)"
   ]
  },
  {
   "cell_type": "code",
   "execution_count": 10,
   "metadata": {
    "id": "bDP8VmMx1OgD"
   },
   "outputs": [],
   "source": [
    "model=Model(inputs=img,outputs=output)\n",
    "model.compile(loss='binary_crossentropy',optimizer='adam')"
   ]
  },
  {
   "cell_type": "markdown",
   "metadata": {
    "id": "rd67q8rl1gih"
   },
   "source": [
    "Train Model and Visualize Result"
   ]
  },
  {
   "cell_type": "code",
   "execution_count": 11,
   "metadata": {
    "id": "pQua5jcr3gGb"
   },
   "outputs": [],
   "source": [
    "from IPython import display"
   ]
  },
  {
   "cell_type": "code",
   "execution_count": 13,
   "metadata": {
    "id": "PXFp0Rmz1gXV"
   },
   "outputs": [
    {
     "name": "stdout",
     "output_type": "stream",
     "text": [
      "1/1 [==============================] - 0s 16ms/step\n",
      "1/1 [==============================] - 0s 16ms/step\n",
      "1/1 [==============================] - 0s 28ms/step\n",
      "1/1 [==============================] - 0s 21ms/step\n",
      "1/1 [==============================] - 0s 16ms/step\n",
      "1/1 [==============================] - 0s 16ms/step\n",
      "1/1 [==============================] - 0s 25ms/step\n",
      "1/1 [==============================] - 0s 12ms/step\n",
      "1/1 [==============================] - 0s 16ms/step\n",
      "1/1 [==============================] - 0s 21ms/step\n",
      "1/1 [==============================] - 0s 16ms/step\n",
      "1/1 [==============================] - 0s 7ms/step\n",
      "1/1 [==============================] - 0s 16ms/step\n",
      "1/1 [==============================] - 0s 30ms/step\n",
      "1/1 [==============================] - 0s 18ms/step\n",
      "1/1 [==============================] - 0s 19ms/step\n"
     ]
    },
    {
     "data": {
      "image/png": "[encoded data removed]",
      "text/plain": [
       "<Figure size 288x288 with 16 Axes>"
      ]
     },
     "metadata": {
      "needs_background": "light"
     },
     "output_type": "display_data"
    }
   ],
   "source": [
    "epochs=50\n",
    "\n",
    "\n",
    "for epoch in range(epochs):\n",
    "\n",
    "    print(\"Epoch : \",epoch)\n",
    "    model.fit(train_X,train_X,batch_size=64)\n",
    "\n",
    "    fig,axs=plt.subplots(4,4,figsize=(4,4))\n",
    "    rand=test_X[np.random.randint(0,10000,16)].reshape((4,4,1,28,28))\n",
    "\n",
    "    display.clear_output()\n",
    "\n",
    "\n",
    "    for i in range(4):\n",
    "\n",
    "        for j in range(4):\n",
    "            axs[i,j].imshow(model.predict(rand[i,j])[0],cmap=\"gray\")\n",
    "\n",
    "            axs[i,j].axis(\"off\")\n",
    "\n",
    "    plt.subplots_adjust(wspace=0,hspace=0)\n",
    "    plt.show()"
   ]
  },
  {
   "cell_type": "markdown",
   "metadata": {
    "id": "yrE4uFhZ0cIH"
   },
   "source": []
  }
 ],
 "metadata": {
  "accelerator": "GPU",
  "colab": {
   "collapsed_sections": [],
   "provenance": []
  },
  "gpuClass": "standard",
  "kernelspec": {
   "display_name": "Python 3 (ipykernel)",
   "language": "python",
   "name": "python3"
  },
  "language_info": {
   "codemirror_mode": {
    "name": "ipython",
    "version": 3
   },
   "file_extension": ".py",
   "mimetype": "text/x-python",
   "name": "python",
   "nbconvert_exporter": "python",
   "pygments_lexer": "ipython3",
   "version": "3.9.7"
  }
 },
 "nbformat": 4,
 "nbformat_minor": 4
}
