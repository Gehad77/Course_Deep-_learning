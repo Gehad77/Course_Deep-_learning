{
 "cells": [
  {
   "cell_type": "code",
   "execution_count": null,
   "id": "08f40b6e-f126-44a7-9808-f993de46b164",
   "metadata": {},
   "outputs": [],
   "source": [
    "import keras\n",
    "from keras.layers import Input, Dense\n",
    "from keras.models import Model"
   ]
  },
  {
   "cell_type": "code",
   "execution_count": null,
   "id": "de458190-126c-464f-8d4a-57fc2f8cb286",
   "metadata": {},
   "outputs": [],
   "source": [
    "# Define input shape\n",
    "input_shape = (784,)\n",
    "\n",
    "# Define encoding dimension\n",
    "encoding_dim = 32\n",
    "\n",
    "# Define input layer\n",
    "input_layer = Input(shape=input_shape)"
   ]
  },
  {
   "cell_type": "code",
   "execution_count": null,
   "id": "c33a7a92-6d2d-4c10-9a12-f48e65d6c5c9",
   "metadata": {},
   "outputs": [],
   "source": [
    "# Define encoder layers\n",
    "encoded_layer1 = Dense(128, activation='relu')(input_layer)\n",
    "encoded_layer2 = Dense(64, activation='relu')(encoded_layer1)\n",
    "encoded_layer3 = Dense(encoding_dim, activation='relu')(encoded_layer2)\n",
    "\n",
    "# Define decoder layers\n",
    "decoded_layer1 = Dense(64, activation='relu')(encoded_layer3)\n",
    "decoded_layer2 = Dense(128, activation='relu')(decoded_layer1)\n",
    "decoded_layer3 = Dense(784, activation='sigmoid')(decoded_layer2)"
   ]
  },
  {
   "cell_type": "code",
   "execution_count": null,
   "id": "611e1777-d671-4c9d-808a-c5192ffbfe2d",
   "metadata": {},
   "outputs": [],
   "source": [
    "# Define autoencoder model\n",
    "autoencoder_model = Model(inputs=input_layer, outputs=decoded_layer3)\n",
    "\n",
    "# Define encoder model\n",
    "encoder_model = Model(inputs=input_layer, outputs=encoded_layer3)\n",
    "\n",
    "# Define decoder model\n",
    "decoder_input = Input(shape=(encoding_dim,))\n",
    "decoder_layer1 = autoencoder_model.layers[-3](decoder_input)\n",
    "decoder_layer2 = autoencoder_model.layers[-2](decoder_layer1)\n",
    "decoder_layer3 = autoencoder_model.layers[-1](decoder_layer2)\n",
    "decoder_model = Model(inputs=decoder_input, outputs=decoder_layer3)\n",
    "\n",
    "# Compile autoencoder model\n",
    "autoencoder_model.compile(optimizer='adam', loss='binary_crossentropy')\n",
    "\n",
    "# Load data and normalize to range [0, 1]\n",
    "(x_train, _), (x_test, _) = keras.datasets.mnist.load_data()\n",
    "x_train = x_train.astype('float32') / 255.\n",
    "x_test = x_test.astype('float32') / 255.\n",
    "x_train = x_train.reshape((len(x_train), np.prod(x_train.shape[1:])))\n",
    "x_test = x_test.reshape((len(x_test), np.prod(x_test.shape[1:])))\n",
    "\n",
    "# Train autoencoder model\n",
    "autoencoder_model.fit(x_train, x_train,\n",
    "                      epochs=50,\n",
    "                      batch_size=256,\n",
    "                      shuffle=True,\n",
    "                      validation_data=(x_test, x_test))\n",
    "\n",
    "# Use encoder and decoder models to encode and decode data\n",
    "encoded_data = encoder_model.predict(x_test)\n",
    "decoded_data = decoder_model.predict(encoded_data)"
   ]
  }
 ],
 "metadata": {
  "kernelspec": {
   "display_name": "Python 3 (ipykernel)",
   "language": "python",
   "name": "python3"
  },
  "language_info": {
   "codemirror_mode": {
    "name": "ipython",
    "version": 3
   },
   "file_extension": ".py",
   "mimetype": "text/x-python",
   "name": "python",
   "nbconvert_exporter": "python",
   "pygments_lexer": "ipython3",
   "version": "3.9.7"
  }
 },
 "nbformat": 4,
 "nbformat_minor": 5
}
