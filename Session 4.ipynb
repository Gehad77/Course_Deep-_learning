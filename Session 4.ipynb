{
 "cells": [
  {
   "cell_type": "code",
   "execution_count": 1,
   "id": "6b41e6e9-03ce-404c-b2b2-f2e543aa214b",
   "metadata": {},
   "outputs": [],
   "source": [
    "import numpy as np \n",
    "import pandas as pd \n",
    "import matplotlib.pyplot as plt \n",
    "import tensorflow as tf\n",
    "from tensorflow import keras"
   ]
  },
  {
   "cell_type": "code",
   "execution_count": 2,
   "id": "0d2a20c9-dbff-416a-bec2-93cb894caedf",
   "metadata": {},
   "outputs": [],
   "source": [
    "df = pd.read_csv(\"Churn_Modelling.csv\")"
   ]
  },
  {
   "cell_type": "code",
   "execution_count": 3,
   "id": "f78c0d77-8363-43b5-ba01-1e0818be5a00",
   "metadata": {},
   "outputs": [
    {
     "data": {
      "text/html": [
       "<div>\n",
       "<style scoped>\n",
       "    .dataframe tbody tr th:only-of-type {\n",
       "        vertical-align: middle;\n",
       "    }\n",
       "\n",
       "    .dataframe tbody tr th {\n",
       "        vertical-align: top;\n",
       "    }\n",
       "\n",
       "    .dataframe thead th {\n",
       "        text-align: right;\n",
       "    }\n",
       "</style>\n",
       "<table border=\"1\" class=\"dataframe\">\n",
       "  <thead>\n",
       "    <tr style=\"text-align: right;\">\n",
       "      <th></th>\n",
       "      <th>RowNumber</th>\n",
       "      <th>CustomerId</th>\n",
       "      <th>Surname</th>\n",
       "      <th>CreditScore</th>\n",
       "      <th>Geography</th>\n",
       "      <th>Gender</th>\n",
       "      <th>Age</th>\n",
       "      <th>Tenure</th>\n",
       "      <th>Balance</th>\n",
       "      <th>NumOfProducts</th>\n",
       "      <th>HasCrCard</th>\n",
       "      <th>IsActiveMember</th>\n",
       "      <th>EstimatedSalary</th>\n",
       "      <th>Exited</th>\n",
       "    </tr>\n",
       "  </thead>\n",
       "  <tbody>\n",
       "    <tr>\n",
       "      <th>0</th>\n",
       "      <td>1</td>\n",
       "      <td>15634602</td>\n",
       "      <td>Hargrave</td>\n",
       "      <td>619</td>\n",
       "      <td>France</td>\n",
       "      <td>Female</td>\n",
       "      <td>42</td>\n",
       "      <td>2</td>\n",
       "      <td>0.00</td>\n",
       "      <td>1</td>\n",
       "      <td>1</td>\n",
       "      <td>1</td>\n",
       "      <td>101348.88</td>\n",
       "      <td>1</td>\n",
       "    </tr>\n",
       "    <tr>\n",
       "      <th>1</th>\n",
       "      <td>2</td>\n",
       "      <td>15647311</td>\n",
       "      <td>Hill</td>\n",
       "      <td>608</td>\n",
       "      <td>Spain</td>\n",
       "      <td>Female</td>\n",
       "      <td>41</td>\n",
       "      <td>1</td>\n",
       "      <td>83807.86</td>\n",
       "      <td>1</td>\n",
       "      <td>0</td>\n",
       "      <td>1</td>\n",
       "      <td>112542.58</td>\n",
       "      <td>0</td>\n",
       "    </tr>\n",
       "    <tr>\n",
       "      <th>2</th>\n",
       "      <td>3</td>\n",
       "      <td>15619304</td>\n",
       "      <td>Onio</td>\n",
       "      <td>502</td>\n",
       "      <td>France</td>\n",
       "      <td>Female</td>\n",
       "      <td>42</td>\n",
       "      <td>8</td>\n",
       "      <td>159660.80</td>\n",
       "      <td>3</td>\n",
       "      <td>1</td>\n",
       "      <td>0</td>\n",
       "      <td>113931.57</td>\n",
       "      <td>1</td>\n",
       "    </tr>\n",
       "    <tr>\n",
       "      <th>3</th>\n",
       "      <td>4</td>\n",
       "      <td>15701354</td>\n",
       "      <td>Boni</td>\n",
       "      <td>699</td>\n",
       "      <td>France</td>\n",
       "      <td>Female</td>\n",
       "      <td>39</td>\n",
       "      <td>1</td>\n",
       "      <td>0.00</td>\n",
       "      <td>2</td>\n",
       "      <td>0</td>\n",
       "      <td>0</td>\n",
       "      <td>93826.63</td>\n",
       "      <td>0</td>\n",
       "    </tr>\n",
       "    <tr>\n",
       "      <th>4</th>\n",
       "      <td>5</td>\n",
       "      <td>15737888</td>\n",
       "      <td>Mitchell</td>\n",
       "      <td>850</td>\n",
       "      <td>Spain</td>\n",
       "      <td>Female</td>\n",
       "      <td>43</td>\n",
       "      <td>2</td>\n",
       "      <td>125510.82</td>\n",
       "      <td>1</td>\n",
       "      <td>1</td>\n",
       "      <td>1</td>\n",
       "      <td>79084.10</td>\n",
       "      <td>0</td>\n",
       "    </tr>\n",
       "  </tbody>\n",
       "</table>\n",
       "</div>"
      ],
      "text/plain": [
       "   RowNumber  CustomerId   Surname  CreditScore Geography  Gender  Age  \\\n",
       "0          1    15634602  Hargrave          619    France  Female   42   \n",
       "1          2    15647311      Hill          608     Spain  Female   41   \n",
       "2          3    15619304      Onio          502    France  Female   42   \n",
       "3          4    15701354      Boni          699    France  Female   39   \n",
       "4          5    15737888  Mitchell          850     Spain  Female   43   \n",
       "\n",
       "   Tenure    Balance  NumOfProducts  HasCrCard  IsActiveMember  \\\n",
       "0       2       0.00              1          1               1   \n",
       "1       1   83807.86              1          0               1   \n",
       "2       8  159660.80              3          1               0   \n",
       "3       1       0.00              2          0               0   \n",
       "4       2  125510.82              1          1               1   \n",
       "\n",
       "   EstimatedSalary  Exited  \n",
       "0        101348.88       1  \n",
       "1        112542.58       0  \n",
       "2        113931.57       1  \n",
       "3         93826.63       0  \n",
       "4         79084.10       0  "
      ]
     },
     "execution_count": 3,
     "metadata": {},
     "output_type": "execute_result"
    }
   ],
   "source": [
    "df.head()"
   ]
  },
  {
   "cell_type": "code",
   "execution_count": 8,
   "id": "c480da14-b521-42d1-ae16-46a4c4e6ce4a",
   "metadata": {},
   "outputs": [],
   "source": [
    "df.drop([\"Gender\",\"Geography\"],axis=1,inplace=True)"
   ]
  },
  {
   "cell_type": "code",
   "execution_count": 9,
   "id": "2b48204d-1022-4f36-aab8-165fba4749f7",
   "metadata": {},
   "outputs": [],
   "source": [
    "df.head()\n",
    "\n",
    "X = df.iloc[:,3:11]\n",
    "y = df.iloc[:,11]"
   ]
  },
  {
   "cell_type": "code",
   "execution_count": 6,
   "id": "0e1fd01f-b54d-42e9-ad47-aa99814fa063",
   "metadata": {},
   "outputs": [],
   "source": [
    "model = keras.models.Sequential([\n",
    "    keras.layers.Dense(6,activation = \"relu\" , input_dim = 8),\n",
    "    keras.layers.Dense(3,activation = \"relu\" ),\n",
    "    keras.layers.Dense(1,activation = \"sigmoid\" ) # classification so AF will be sigmoid\n",
    "    \n",
    "])"
   ]
  },
  {
   "cell_type": "code",
   "execution_count": 7,
   "id": "b353d6b8-a101-4ce2-9de5-3bc82ff6722e",
   "metadata": {},
   "outputs": [
    {
     "name": "stdout",
     "output_type": "stream",
     "text": [
      "Model: \"sequential\"\n",
      "_________________________________________________________________\n",
      " Layer (type)                Output Shape              Param #   \n",
      "=================================================================\n",
      " dense (Dense)               (None, 6)                 54        \n",
      "                                                                 \n",
      " dense_1 (Dense)             (None, 3)                 21        \n",
      "                                                                 \n",
      " dense_2 (Dense)             (None, 1)                 4         \n",
      "                                                                 \n",
      "=================================================================\n",
      "Total params: 79\n",
      "Trainable params: 79\n",
      "Non-trainable params: 0\n",
      "_________________________________________________________________\n"
     ]
    }
   ],
   "source": [
    "model.summary()"
   ]
  },
  {
   "cell_type": "code",
   "execution_count": 8,
   "id": "81d33334-a066-4185-b105-bb9f57680871",
   "metadata": {},
   "outputs": [],
   "source": [
    "model.compile(optimizer = \"SGD\" , loss = \"binary_crossentropy\" , metrics =\"accuracy\")"
   ]
  },
  {
   "cell_type": "code",
   "execution_count": 9,
   "id": "14330a18-fe2f-409a-a70f-706b68d989fc",
   "metadata": {},
   "outputs": [
    {
     "name": "stdout",
     "output_type": "stream",
     "text": [
      "Epoch 1/50\n",
      "282/282 [==============================] - 1s 2ms/step - loss: 285.7889 - accuracy: 0.7916 - val_loss: 0.5449 - val_accuracy: 0.8210\n",
      "Epoch 2/50\n",
      "282/282 [==============================] - 1s 2ms/step - loss: 0.5402 - accuracy: 0.7936 - val_loss: 0.5008 - val_accuracy: 0.8210\n",
      "Epoch 3/50\n",
      "282/282 [==============================] - 0s 2ms/step - loss: 0.5195 - accuracy: 0.7936 - val_loss: 0.4851 - val_accuracy: 0.8210\n",
      "Epoch 4/50\n",
      "282/282 [==============================] - 1s 2ms/step - loss: 0.5129 - accuracy: 0.7936 - val_loss: 0.4788 - val_accuracy: 0.8210\n",
      "Epoch 5/50\n",
      "282/282 [==============================] - 1s 2ms/step - loss: 0.5106 - accuracy: 0.7936 - val_loss: 0.4758 - val_accuracy: 0.8210\n",
      "Epoch 6/50\n",
      "282/282 [==============================] - 0s 2ms/step - loss: 0.5098 - accuracy: 0.7936 - val_loss: 0.4742 - val_accuracy: 0.8210\n",
      "Epoch 7/50\n",
      "282/282 [==============================] - 1s 2ms/step - loss: 0.5094 - accuracy: 0.7936 - val_loss: 0.4734 - val_accuracy: 0.8210\n",
      "Epoch 8/50\n",
      "282/282 [==============================] - 0s 2ms/step - loss: 0.5093 - accuracy: 0.7936 - val_loss: 0.4730 - val_accuracy: 0.8210\n",
      "Epoch 9/50\n",
      "282/282 [==============================] - 0s 2ms/step - loss: 0.5093 - accuracy: 0.7936 - val_loss: 0.4727 - val_accuracy: 0.8210\n",
      "Epoch 10/50\n",
      "282/282 [==============================] - 0s 2ms/step - loss: 0.5092 - accuracy: 0.7936 - val_loss: 0.4726 - val_accuracy: 0.8210\n",
      "Epoch 11/50\n",
      "282/282 [==============================] - 0s 2ms/step - loss: 0.5092 - accuracy: 0.7936 - val_loss: 0.4725 - val_accuracy: 0.8210\n",
      "Epoch 12/50\n",
      "282/282 [==============================] - 1s 2ms/step - loss: 0.5092 - accuracy: 0.7936 - val_loss: 0.4724 - val_accuracy: 0.8210\n",
      "Epoch 13/50\n",
      "282/282 [==============================] - 0s 2ms/step - loss: 0.5092 - accuracy: 0.7936 - val_loss: 0.4724 - val_accuracy: 0.8210\n",
      "Epoch 14/50\n",
      "282/282 [==============================] - 1s 2ms/step - loss: 0.5092 - accuracy: 0.7936 - val_loss: 0.4723 - val_accuracy: 0.8210\n",
      "Epoch 15/50\n",
      "282/282 [==============================] - 1s 2ms/step - loss: 0.5092 - accuracy: 0.7936 - val_loss: 0.4723 - val_accuracy: 0.8210\n",
      "Epoch 16/50\n",
      "282/282 [==============================] - 1s 2ms/step - loss: 0.5092 - accuracy: 0.7936 - val_loss: 0.4723 - val_accuracy: 0.8210\n",
      "Epoch 17/50\n",
      "282/282 [==============================] - 1s 2ms/step - loss: 0.5092 - accuracy: 0.7936 - val_loss: 0.4723 - val_accuracy: 0.8210\n",
      "Epoch 18/50\n",
      "282/282 [==============================] - 0s 2ms/step - loss: 0.5092 - accuracy: 0.7936 - val_loss: 0.4723 - val_accuracy: 0.8210\n",
      "Epoch 19/50\n",
      "282/282 [==============================] - 1s 2ms/step - loss: 0.5092 - accuracy: 0.7936 - val_loss: 0.4723 - val_accuracy: 0.8210\n",
      "Epoch 20/50\n",
      "282/282 [==============================] - 0s 2ms/step - loss: 0.5092 - accuracy: 0.7936 - val_loss: 0.4723 - val_accuracy: 0.8210\n",
      "Epoch 21/50\n",
      "282/282 [==============================] - 1s 2ms/step - loss: 0.5092 - accuracy: 0.7936 - val_loss: 0.4723 - val_accuracy: 0.8210\n",
      "Epoch 22/50\n",
      "282/282 [==============================] - 1s 2ms/step - loss: 0.5092 - accuracy: 0.7936 - val_loss: 0.4722 - val_accuracy: 0.8210\n",
      "Epoch 23/50\n",
      "282/282 [==============================] - 1s 2ms/step - loss: 0.5092 - accuracy: 0.7936 - val_loss: 0.4723 - val_accuracy: 0.8210\n",
      "Epoch 24/50\n",
      "282/282 [==============================] - 1s 2ms/step - loss: 0.5092 - accuracy: 0.7936 - val_loss: 0.4723 - val_accuracy: 0.8210\n",
      "Epoch 25/50\n",
      "282/282 [==============================] - 1s 2ms/step - loss: 0.5092 - accuracy: 0.7936 - val_loss: 0.4722 - val_accuracy: 0.8210\n",
      "Epoch 26/50\n",
      "282/282 [==============================] - 1s 2ms/step - loss: 0.5092 - accuracy: 0.7936 - val_loss: 0.4723 - val_accuracy: 0.8210\n",
      "Epoch 27/50\n",
      "282/282 [==============================] - 1s 2ms/step - loss: 0.5092 - accuracy: 0.7936 - val_loss: 0.4723 - val_accuracy: 0.8210\n",
      "Epoch 28/50\n",
      "282/282 [==============================] - 1s 2ms/step - loss: 0.5092 - accuracy: 0.7936 - val_loss: 0.4723 - val_accuracy: 0.8210\n",
      "Epoch 29/50\n",
      "282/282 [==============================] - 1s 2ms/step - loss: 0.5092 - accuracy: 0.7936 - val_loss: 0.4723 - val_accuracy: 0.8210\n",
      "Epoch 30/50\n",
      "282/282 [==============================] - 1s 2ms/step - loss: 0.5092 - accuracy: 0.7936 - val_loss: 0.4723 - val_accuracy: 0.8210\n",
      "Epoch 31/50\n",
      "282/282 [==============================] - 1s 2ms/step - loss: 0.5092 - accuracy: 0.7936 - val_loss: 0.4723 - val_accuracy: 0.8210\n",
      "Epoch 32/50\n",
      "282/282 [==============================] - 1s 2ms/step - loss: 0.5092 - accuracy: 0.7936 - val_loss: 0.4724 - val_accuracy: 0.8210\n",
      "Epoch 33/50\n",
      "282/282 [==============================] - 1s 2ms/step - loss: 0.5092 - accuracy: 0.7936 - val_loss: 0.4723 - val_accuracy: 0.8210\n",
      "Epoch 34/50\n",
      "282/282 [==============================] - 1s 2ms/step - loss: 0.5092 - accuracy: 0.7936 - val_loss: 0.4722 - val_accuracy: 0.8210\n",
      "Epoch 35/50\n",
      "282/282 [==============================] - 1s 2ms/step - loss: 0.5092 - accuracy: 0.7936 - val_loss: 0.4722 - val_accuracy: 0.8210\n",
      "Epoch 36/50\n",
      "282/282 [==============================] - 1s 2ms/step - loss: 0.5092 - accuracy: 0.7936 - val_loss: 0.4721 - val_accuracy: 0.8210\n",
      "Epoch 37/50\n",
      "282/282 [==============================] - 1s 2ms/step - loss: 0.5092 - accuracy: 0.7936 - val_loss: 0.4721 - val_accuracy: 0.8210\n",
      "Epoch 38/50\n",
      "282/282 [==============================] - 1s 2ms/step - loss: 0.5092 - accuracy: 0.7936 - val_loss: 0.4722 - val_accuracy: 0.8210\n",
      "Epoch 39/50\n",
      "282/282 [==============================] - 1s 2ms/step - loss: 0.5092 - accuracy: 0.7936 - val_loss: 0.4722 - val_accuracy: 0.8210\n",
      "Epoch 40/50\n",
      "282/282 [==============================] - 1s 2ms/step - loss: 0.5092 - accuracy: 0.7936 - val_loss: 0.4722 - val_accuracy: 0.8210\n",
      "Epoch 41/50\n",
      "282/282 [==============================] - 1s 2ms/step - loss: 0.5092 - accuracy: 0.7936 - val_loss: 0.4723 - val_accuracy: 0.8210\n",
      "Epoch 42/50\n",
      "282/282 [==============================] - 1s 2ms/step - loss: 0.5092 - accuracy: 0.7936 - val_loss: 0.4723 - val_accuracy: 0.8210\n",
      "Epoch 43/50\n",
      "282/282 [==============================] - 1s 2ms/step - loss: 0.5092 - accuracy: 0.7936 - val_loss: 0.4722 - val_accuracy: 0.8210\n",
      "Epoch 44/50\n",
      "282/282 [==============================] - 1s 2ms/step - loss: 0.5092 - accuracy: 0.7936 - val_loss: 0.4722 - val_accuracy: 0.8210\n",
      "Epoch 45/50\n",
      "282/282 [==============================] - 1s 2ms/step - loss: 0.5092 - accuracy: 0.7936 - val_loss: 0.4721 - val_accuracy: 0.8210\n",
      "Epoch 46/50\n",
      "282/282 [==============================] - 1s 2ms/step - loss: 0.5092 - accuracy: 0.7936 - val_loss: 0.4722 - val_accuracy: 0.8210\n",
      "Epoch 47/50\n",
      "282/282 [==============================] - 1s 2ms/step - loss: 0.5092 - accuracy: 0.7936 - val_loss: 0.4722 - val_accuracy: 0.8210\n",
      "Epoch 48/50\n",
      "282/282 [==============================] - 1s 2ms/step - loss: 0.5092 - accuracy: 0.7936 - val_loss: 0.4723 - val_accuracy: 0.8210\n",
      "Epoch 49/50\n",
      "282/282 [==============================] - 1s 2ms/step - loss: 0.5092 - accuracy: 0.7936 - val_loss: 0.4723 - val_accuracy: 0.8210\n",
      "Epoch 50/50\n",
      "282/282 [==============================] - 1s 2ms/step - loss: 0.5092 - accuracy: 0.7936 - val_loss: 0.4723 - val_accuracy: 0.8210\n"
     ]
    },
    {
     "data": {
      "text/plain": [
       "<keras.callbacks.History at 0x20bdbf59970>"
      ]
     },
     "execution_count": 9,
     "metadata": {},
     "output_type": "execute_result"
    }
   ],
   "source": [
    "model.fit(X,y,epochs = 50,validation_split = 0.1)"
   ]
  },
  {
   "cell_type": "markdown",
   "id": "bae4fd75-b70f-4d89-bd23-2d7e2011a691",
   "metadata": {},
   "source": [
    "### Form what i see , the loss is the same num from the biggining to the end \n",
    "### so i need to add scaling befor do the NN\n",
    "### and that becouse some of the columns have big num and some of columns have small num"
   ]
  },
  {
   "cell_type": "code",
   "execution_count": 10,
   "id": "974a24d9-8a5a-49c0-ab26-d67abdfa721f",
   "metadata": {},
   "outputs": [],
   "source": [
    "from sklearn.preprocessing import StandardScaler \n",
    "\n",
    "sc = StandardScaler()\n",
    "\n",
    "X_scaled = sc.fit_transform(X)"
   ]
  },
  {
   "cell_type": "code",
   "execution_count": 11,
   "id": "fbc92320-2603-4f55-b82d-c6fb29d2e6d6",
   "metadata": {},
   "outputs": [
    {
     "data": {
      "text/plain": [
       "array([[-0.32622142,  0.29351742, -1.04175968, ...,  0.64609167,\n",
       "         0.97024255,  0.02188649],\n",
       "       [-0.44003595,  0.19816383, -1.38753759, ..., -1.54776799,\n",
       "         0.97024255,  0.21653375],\n",
       "       [-1.53679418,  0.29351742,  1.03290776, ...,  0.64609167,\n",
       "        -1.03067011,  0.2406869 ],\n",
       "       ...,\n",
       "       [ 0.60498839, -0.27860412,  0.68712986, ..., -1.54776799,\n",
       "         0.97024255, -1.00864308],\n",
       "       [ 1.25683526,  0.29351742, -0.69598177, ...,  0.64609167,\n",
       "        -1.03067011, -0.12523071],\n",
       "       [ 1.46377078, -1.04143285, -0.35020386, ...,  0.64609167,\n",
       "        -1.03067011, -1.07636976]])"
      ]
     },
     "execution_count": 11,
     "metadata": {},
     "output_type": "execute_result"
    }
   ],
   "source": [
    "X_scaled"
   ]
  },
  {
   "cell_type": "markdown",
   "id": "128dd284-c80f-4f88-bca2-e8936aa6ea19",
   "metadata": {},
   "source": [
    "### About what i see the number have the same scaling"
   ]
  },
  {
   "cell_type": "markdown",
   "id": "9e9d4c71-c190-412b-aa6f-72095ff918cd",
   "metadata": {},
   "source": [
    "I will run again from start"
   ]
  },
  {
   "cell_type": "code",
   "execution_count": 12,
   "id": "239d7956-9a2d-49bb-ae04-0ec98e30f24a",
   "metadata": {},
   "outputs": [],
   "source": [
    "model = keras.models.Sequential([\n",
    "    keras.layers.Dense(6,activation = \"relu\" , input_dim = 8),\n",
    "    keras.layers.Dense(3,activation = \"relu\" ),\n",
    "    keras.layers.Dense(1,activation = \"sigmoid\" ) # classification so AF will be sigmoid\n",
    "    \n",
    "])"
   ]
  },
  {
   "cell_type": "code",
   "execution_count": 13,
   "id": "9432a7d2-c687-490a-b78c-cbb39d54fba3",
   "metadata": {},
   "outputs": [
    {
     "name": "stdout",
     "output_type": "stream",
     "text": [
      "Model: \"sequential_1\"\n",
      "_________________________________________________________________\n",
      " Layer (type)                Output Shape              Param #   \n",
      "=================================================================\n",
      " dense_3 (Dense)             (None, 6)                 54        \n",
      "                                                                 \n",
      " dense_4 (Dense)             (None, 3)                 21        \n",
      "                                                                 \n",
      " dense_5 (Dense)             (None, 1)                 4         \n",
      "                                                                 \n",
      "=================================================================\n",
      "Total params: 79\n",
      "Trainable params: 79\n",
      "Non-trainable params: 0\n",
      "_________________________________________________________________\n"
     ]
    }
   ],
   "source": [
    "model.summary()"
   ]
  },
  {
   "cell_type": "code",
   "execution_count": 14,
   "id": "d3566719-2a46-4bf2-bef8-99485ead8d7d",
   "metadata": {},
   "outputs": [],
   "source": [
    "model.compile(optimizer = \"SGD\" , loss = \"binary_crossentropy\" , metrics =\"accuracy\")"
   ]
  },
  {
   "cell_type": "code",
   "execution_count": 15,
   "id": "f890dac5-f810-4144-8d8c-532efe6e4a17",
   "metadata": {},
   "outputs": [
    {
     "name": "stdout",
     "output_type": "stream",
     "text": [
      "Epoch 1/50\n",
      "282/282 [==============================] - 1s 2ms/step - loss: 0.6284 - accuracy: 0.6961 - val_loss: 0.5182 - val_accuracy: 0.8210\n",
      "Epoch 2/50\n",
      "282/282 [==============================] - 1s 2ms/step - loss: 0.5216 - accuracy: 0.7936 - val_loss: 0.4852 - val_accuracy: 0.8210\n",
      "Epoch 3/50\n",
      "282/282 [==============================] - 0s 2ms/step - loss: 0.5075 - accuracy: 0.7936 - val_loss: 0.4744 - val_accuracy: 0.8210\n",
      "Epoch 4/50\n",
      "282/282 [==============================] - 0s 2ms/step - loss: 0.5004 - accuracy: 0.7936 - val_loss: 0.4675 - val_accuracy: 0.8210\n",
      "Epoch 5/50\n",
      "282/282 [==============================] - 0s 2ms/step - loss: 0.4948 - accuracy: 0.7936 - val_loss: 0.4622 - val_accuracy: 0.8210\n",
      "Epoch 6/50\n",
      "282/282 [==============================] - 0s 2ms/step - loss: 0.4897 - accuracy: 0.7936 - val_loss: 0.4574 - val_accuracy: 0.8210\n",
      "Epoch 7/50\n",
      "282/282 [==============================] - 0s 2ms/step - loss: 0.4849 - accuracy: 0.7936 - val_loss: 0.4537 - val_accuracy: 0.8210\n",
      "Epoch 8/50\n",
      "282/282 [==============================] - 0s 2ms/step - loss: 0.4803 - accuracy: 0.7936 - val_loss: 0.4498 - val_accuracy: 0.8210\n",
      "Epoch 9/50\n",
      "282/282 [==============================] - 0s 2ms/step - loss: 0.4759 - accuracy: 0.7936 - val_loss: 0.4466 - val_accuracy: 0.8210\n",
      "Epoch 10/50\n",
      "282/282 [==============================] - 0s 2ms/step - loss: 0.4718 - accuracy: 0.7936 - val_loss: 0.4436 - val_accuracy: 0.8210\n",
      "Epoch 11/50\n",
      "282/282 [==============================] - 0s 2ms/step - loss: 0.4680 - accuracy: 0.7936 - val_loss: 0.4407 - val_accuracy: 0.8210\n",
      "Epoch 12/50\n",
      "282/282 [==============================] - 0s 2ms/step - loss: 0.4642 - accuracy: 0.7936 - val_loss: 0.4382 - val_accuracy: 0.8210\n",
      "Epoch 13/50\n",
      "282/282 [==============================] - 1s 2ms/step - loss: 0.4610 - accuracy: 0.7936 - val_loss: 0.4354 - val_accuracy: 0.8210\n",
      "Epoch 14/50\n",
      "282/282 [==============================] - 0s 2ms/step - loss: 0.4581 - accuracy: 0.7936 - val_loss: 0.4335 - val_accuracy: 0.8210\n",
      "Epoch 15/50\n",
      "282/282 [==============================] - 1s 2ms/step - loss: 0.4557 - accuracy: 0.7936 - val_loss: 0.4317 - val_accuracy: 0.8210\n",
      "Epoch 16/50\n",
      "282/282 [==============================] - 1s 2ms/step - loss: 0.4536 - accuracy: 0.7936 - val_loss: 0.4300 - val_accuracy: 0.8210\n",
      "Epoch 17/50\n",
      "282/282 [==============================] - 0s 2ms/step - loss: 0.4518 - accuracy: 0.7936 - val_loss: 0.4292 - val_accuracy: 0.8210\n",
      "Epoch 18/50\n",
      "282/282 [==============================] - 0s 2ms/step - loss: 0.4503 - accuracy: 0.7936 - val_loss: 0.4282 - val_accuracy: 0.8210\n",
      "Epoch 19/50\n",
      "282/282 [==============================] - 0s 2ms/step - loss: 0.4490 - accuracy: 0.7936 - val_loss: 0.4274 - val_accuracy: 0.8210\n",
      "Epoch 20/50\n",
      "282/282 [==============================] - 1s 2ms/step - loss: 0.4478 - accuracy: 0.7936 - val_loss: 0.4265 - val_accuracy: 0.8210\n",
      "Epoch 21/50\n",
      "282/282 [==============================] - 1s 2ms/step - loss: 0.4466 - accuracy: 0.7936 - val_loss: 0.4261 - val_accuracy: 0.8210\n",
      "Epoch 22/50\n",
      "282/282 [==============================] - 1s 2ms/step - loss: 0.4455 - accuracy: 0.7936 - val_loss: 0.4254 - val_accuracy: 0.8210\n",
      "Epoch 23/50\n",
      "282/282 [==============================] - 0s 2ms/step - loss: 0.4443 - accuracy: 0.7937 - val_loss: 0.4242 - val_accuracy: 0.8210\n",
      "Epoch 24/50\n",
      "282/282 [==============================] - 0s 2ms/step - loss: 0.4431 - accuracy: 0.7937 - val_loss: 0.4231 - val_accuracy: 0.8210\n",
      "Epoch 25/50\n",
      "282/282 [==============================] - 1s 2ms/step - loss: 0.4420 - accuracy: 0.7942 - val_loss: 0.4225 - val_accuracy: 0.8220\n",
      "Epoch 26/50\n",
      "282/282 [==============================] - 1s 2ms/step - loss: 0.4409 - accuracy: 0.7946 - val_loss: 0.4218 - val_accuracy: 0.8230\n",
      "Epoch 27/50\n",
      "282/282 [==============================] - 0s 2ms/step - loss: 0.4398 - accuracy: 0.7954 - val_loss: 0.4209 - val_accuracy: 0.8240\n",
      "Epoch 28/50\n",
      "282/282 [==============================] - 0s 2ms/step - loss: 0.4387 - accuracy: 0.7960 - val_loss: 0.4204 - val_accuracy: 0.8240\n",
      "Epoch 29/50\n",
      "282/282 [==============================] - 0s 2ms/step - loss: 0.4376 - accuracy: 0.7967 - val_loss: 0.4202 - val_accuracy: 0.8260\n",
      "Epoch 30/50\n",
      "282/282 [==============================] - 1s 2ms/step - loss: 0.4366 - accuracy: 0.7983 - val_loss: 0.4193 - val_accuracy: 0.8270\n",
      "Epoch 31/50\n",
      "282/282 [==============================] - 1s 2ms/step - loss: 0.4355 - accuracy: 0.7994 - val_loss: 0.4184 - val_accuracy: 0.8270\n",
      "Epoch 32/50\n",
      "282/282 [==============================] - 1s 2ms/step - loss: 0.4343 - accuracy: 0.8001 - val_loss: 0.4179 - val_accuracy: 0.8280\n",
      "Epoch 33/50\n",
      "282/282 [==============================] - 0s 2ms/step - loss: 0.4333 - accuracy: 0.8019 - val_loss: 0.4164 - val_accuracy: 0.8280\n",
      "Epoch 34/50\n",
      "282/282 [==============================] - 0s 2ms/step - loss: 0.4321 - accuracy: 0.8028 - val_loss: 0.4153 - val_accuracy: 0.8280\n",
      "Epoch 35/50\n",
      "282/282 [==============================] - 1s 2ms/step - loss: 0.4309 - accuracy: 0.8029 - val_loss: 0.4147 - val_accuracy: 0.8270\n",
      "Epoch 36/50\n",
      "282/282 [==============================] - 0s 2ms/step - loss: 0.4296 - accuracy: 0.8034 - val_loss: 0.4136 - val_accuracy: 0.8260\n",
      "Epoch 37/50\n",
      "282/282 [==============================] - 0s 2ms/step - loss: 0.4282 - accuracy: 0.8044 - val_loss: 0.4122 - val_accuracy: 0.8250\n",
      "Epoch 38/50\n",
      "282/282 [==============================] - 1s 2ms/step - loss: 0.4269 - accuracy: 0.8046 - val_loss: 0.4119 - val_accuracy: 0.8310\n",
      "Epoch 39/50\n",
      "282/282 [==============================] - 0s 2ms/step - loss: 0.4254 - accuracy: 0.8120 - val_loss: 0.4103 - val_accuracy: 0.8300\n",
      "Epoch 40/50\n",
      "282/282 [==============================] - 0s 2ms/step - loss: 0.4238 - accuracy: 0.8144 - val_loss: 0.4088 - val_accuracy: 0.8310\n",
      "Epoch 41/50\n",
      "282/282 [==============================] - 1s 2ms/step - loss: 0.4221 - accuracy: 0.8142 - val_loss: 0.4077 - val_accuracy: 0.8300\n",
      "Epoch 42/50\n",
      "282/282 [==============================] - 0s 2ms/step - loss: 0.4203 - accuracy: 0.8162 - val_loss: 0.4060 - val_accuracy: 0.8320\n",
      "Epoch 43/50\n",
      "282/282 [==============================] - 0s 2ms/step - loss: 0.4183 - accuracy: 0.8179 - val_loss: 0.4042 - val_accuracy: 0.8340\n",
      "Epoch 44/50\n",
      "282/282 [==============================] - 0s 2ms/step - loss: 0.4162 - accuracy: 0.8200 - val_loss: 0.4024 - val_accuracy: 0.8360\n",
      "Epoch 45/50\n",
      "282/282 [==============================] - 1s 2ms/step - loss: 0.4139 - accuracy: 0.8213 - val_loss: 0.4003 - val_accuracy: 0.8350\n",
      "Epoch 46/50\n",
      "282/282 [==============================] - 0s 2ms/step - loss: 0.4115 - accuracy: 0.8232 - val_loss: 0.3978 - val_accuracy: 0.8410\n",
      "Epoch 47/50\n",
      "282/282 [==============================] - 0s 2ms/step - loss: 0.4090 - accuracy: 0.8272 - val_loss: 0.3954 - val_accuracy: 0.8440\n",
      "Epoch 48/50\n",
      "282/282 [==============================] - 0s 2ms/step - loss: 0.4063 - accuracy: 0.8302 - val_loss: 0.3930 - val_accuracy: 0.8450\n",
      "Epoch 49/50\n",
      "282/282 [==============================] - 0s 2ms/step - loss: 0.4032 - accuracy: 0.8332 - val_loss: 0.3905 - val_accuracy: 0.8470\n",
      "Epoch 50/50\n",
      "282/282 [==============================] - 0s 2ms/step - loss: 0.3996 - accuracy: 0.8357 - val_loss: 0.3876 - val_accuracy: 0.8450\n"
     ]
    },
    {
     "data": {
      "text/plain": [
       "<keras.callbacks.History at 0x20bdeec2c40>"
      ]
     },
     "execution_count": 15,
     "metadata": {},
     "output_type": "execute_result"
    }
   ],
   "source": [
    "model.fit(X_scaled,y,epochs = 50,validation_split = 0.1)"
   ]
  },
  {
   "cell_type": "markdown",
   "id": "8736cffd-0632-4cf2-ad77-976163ec2036",
   "metadata": {},
   "source": [
    "### From what i see the problem solved "
   ]
  },
  {
   "cell_type": "markdown",
   "id": "74728315-60ff-4b5b-ab95-373e572cfb9d",
   "metadata": {},
   "source": [
    "### I will try to solve that with another way"
   ]
  },
  {
   "cell_type": "code",
   "execution_count": 17,
   "id": "8cd08a69-6834-4593-8fdc-4a0d0e15820d",
   "metadata": {},
   "outputs": [],
   "source": [
    "model = keras.models.Sequential([\n",
    "    keras.layers.BatchNormalization( input_dim = 8),\n",
    "    keras.layers.Dense(6,activation = \"relu\"),\n",
    "    keras.layers.Dense(3,activation = \"relu\" ),\n",
    "    keras.layers.Dense(1,activation = \"sigmoid\" ) # classification so AF will be sigmoid\n",
    "    \n",
    "])"
   ]
  },
  {
   "cell_type": "code",
   "execution_count": 18,
   "id": "7d79f721-dadb-4a55-81b7-ce4093faf0a1",
   "metadata": {},
   "outputs": [
    {
     "name": "stdout",
     "output_type": "stream",
     "text": [
      "Model: \"sequential_2\"\n",
      "_________________________________________________________________\n",
      " Layer (type)                Output Shape              Param #   \n",
      "=================================================================\n",
      " batch_normalization (BatchN  (None, 8)                32        \n",
      " ormalization)                                                   \n",
      "                                                                 \n",
      " dense_6 (Dense)             (None, 6)                 54        \n",
      "                                                                 \n",
      " dense_7 (Dense)             (None, 3)                 21        \n",
      "                                                                 \n",
      " dense_8 (Dense)             (None, 1)                 4         \n",
      "                                                                 \n",
      "=================================================================\n",
      "Total params: 111\n",
      "Trainable params: 95\n",
      "Non-trainable params: 16\n",
      "_________________________________________________________________\n"
     ]
    }
   ],
   "source": [
    "model.summary()"
   ]
  },
  {
   "cell_type": "markdown",
   "id": "f176b572-02da-4e0c-a629-ee5f5f26b55b",
   "metadata": {},
   "source": [
    "### Non-trainable params: 16 --> from what i see ther is paramitar not training "
   ]
  },
  {
   "cell_type": "markdown",
   "id": "d20dd677-60c3-419a-828c-a5289db3ecbe",
   "metadata": {},
   "source": [
    "try a again to fit the model "
   ]
  },
  {
   "cell_type": "code",
   "execution_count": 20,
   "id": "33eb0711-e086-4fc5-8471-52ded1442c08",
   "metadata": {},
   "outputs": [],
   "source": [
    "model.compile(optimizer = \"SGD\" , loss = \"binary_crossentropy\" , metrics =\"accuracy\")"
   ]
  },
  {
   "cell_type": "code",
   "execution_count": 21,
   "id": "2d48f627-16c4-4116-8149-72a6b2f52731",
   "metadata": {},
   "outputs": [
    {
     "name": "stdout",
     "output_type": "stream",
     "text": [
      "Epoch 1/50\n",
      "282/282 [==============================] - 1s 3ms/step - loss: 0.6296 - accuracy: 0.6951 - val_loss: 0.5195 - val_accuracy: 0.8210\n",
      "Epoch 2/50\n",
      "282/282 [==============================] - 1s 3ms/step - loss: 0.5237 - accuracy: 0.7937 - val_loss: 0.4871 - val_accuracy: 0.8210\n",
      "Epoch 3/50\n",
      "282/282 [==============================] - 1s 2ms/step - loss: 0.5078 - accuracy: 0.7936 - val_loss: 0.4764 - val_accuracy: 0.8210\n",
      "Epoch 4/50\n",
      "282/282 [==============================] - 1s 2ms/step - loss: 0.5012 - accuracy: 0.7936 - val_loss: 0.4698 - val_accuracy: 0.8210\n",
      "Epoch 5/50\n",
      "282/282 [==============================] - 1s 2ms/step - loss: 0.4951 - accuracy: 0.7936 - val_loss: 0.4648 - val_accuracy: 0.8210\n",
      "Epoch 6/50\n",
      "282/282 [==============================] - 1s 2ms/step - loss: 0.4901 - accuracy: 0.7936 - val_loss: 0.4597 - val_accuracy: 0.8210\n",
      "Epoch 7/50\n",
      "282/282 [==============================] - 1s 3ms/step - loss: 0.4838 - accuracy: 0.7936 - val_loss: 0.4547 - val_accuracy: 0.8210\n",
      "Epoch 8/50\n",
      "282/282 [==============================] - 1s 2ms/step - loss: 0.4767 - accuracy: 0.7936 - val_loss: 0.4490 - val_accuracy: 0.8210\n",
      "Epoch 9/50\n",
      "282/282 [==============================] - 1s 3ms/step - loss: 0.4700 - accuracy: 0.7936 - val_loss: 0.4432 - val_accuracy: 0.8210\n",
      "Epoch 10/50\n",
      "282/282 [==============================] - 1s 2ms/step - loss: 0.4622 - accuracy: 0.7936 - val_loss: 0.4375 - val_accuracy: 0.8210\n",
      "Epoch 11/50\n",
      "282/282 [==============================] - 1s 2ms/step - loss: 0.4574 - accuracy: 0.7939 - val_loss: 0.4328 - val_accuracy: 0.8200\n",
      "Epoch 12/50\n",
      "282/282 [==============================] - 1s 2ms/step - loss: 0.4511 - accuracy: 0.7960 - val_loss: 0.4291 - val_accuracy: 0.8180\n",
      "Epoch 13/50\n",
      "282/282 [==============================] - 1s 2ms/step - loss: 0.4466 - accuracy: 0.7987 - val_loss: 0.4262 - val_accuracy: 0.8160\n",
      "Epoch 14/50\n",
      "282/282 [==============================] - 1s 2ms/step - loss: 0.4438 - accuracy: 0.8036 - val_loss: 0.4241 - val_accuracy: 0.8210\n",
      "Epoch 15/50\n",
      "282/282 [==============================] - 1s 2ms/step - loss: 0.4430 - accuracy: 0.8051 - val_loss: 0.4216 - val_accuracy: 0.8220\n",
      "Epoch 16/50\n",
      "282/282 [==============================] - 1s 2ms/step - loss: 0.4380 - accuracy: 0.8056 - val_loss: 0.4198 - val_accuracy: 0.8240\n",
      "Epoch 17/50\n",
      "282/282 [==============================] - 1s 2ms/step - loss: 0.4381 - accuracy: 0.8088 - val_loss: 0.4187 - val_accuracy: 0.8270\n",
      "Epoch 18/50\n",
      "282/282 [==============================] - 1s 2ms/step - loss: 0.4356 - accuracy: 0.8117 - val_loss: 0.4171 - val_accuracy: 0.8270\n",
      "Epoch 19/50\n",
      "282/282 [==============================] - 1s 2ms/step - loss: 0.4355 - accuracy: 0.8124 - val_loss: 0.4157 - val_accuracy: 0.8280\n",
      "Epoch 20/50\n",
      "282/282 [==============================] - 1s 2ms/step - loss: 0.4341 - accuracy: 0.8146 - val_loss: 0.4148 - val_accuracy: 0.8280\n",
      "Epoch 21/50\n",
      "282/282 [==============================] - 1s 2ms/step - loss: 0.4324 - accuracy: 0.8169 - val_loss: 0.4131 - val_accuracy: 0.8310\n",
      "Epoch 22/50\n",
      "282/282 [==============================] - 1s 2ms/step - loss: 0.4313 - accuracy: 0.8173 - val_loss: 0.4124 - val_accuracy: 0.8330\n",
      "Epoch 23/50\n",
      "282/282 [==============================] - 1s 2ms/step - loss: 0.4295 - accuracy: 0.8172 - val_loss: 0.4114 - val_accuracy: 0.8360\n",
      "Epoch 24/50\n",
      "282/282 [==============================] - 1s 2ms/step - loss: 0.4280 - accuracy: 0.8181 - val_loss: 0.4102 - val_accuracy: 0.8400\n",
      "Epoch 25/50\n",
      "282/282 [==============================] - 1s 2ms/step - loss: 0.4277 - accuracy: 0.8196 - val_loss: 0.4091 - val_accuracy: 0.8370\n",
      "Epoch 26/50\n",
      "282/282 [==============================] - 1s 2ms/step - loss: 0.4273 - accuracy: 0.8234 - val_loss: 0.4086 - val_accuracy: 0.8370\n",
      "Epoch 27/50\n",
      "282/282 [==============================] - 1s 2ms/step - loss: 0.4258 - accuracy: 0.8223 - val_loss: 0.4068 - val_accuracy: 0.8390\n",
      "Epoch 28/50\n",
      "282/282 [==============================] - 1s 2ms/step - loss: 0.4250 - accuracy: 0.8218 - val_loss: 0.4051 - val_accuracy: 0.8400\n",
      "Epoch 29/50\n",
      "282/282 [==============================] - 1s 2ms/step - loss: 0.4239 - accuracy: 0.8213 - val_loss: 0.4050 - val_accuracy: 0.8390\n",
      "Epoch 30/50\n",
      "282/282 [==============================] - 1s 2ms/step - loss: 0.4230 - accuracy: 0.8243 - val_loss: 0.4049 - val_accuracy: 0.8380\n",
      "Epoch 31/50\n",
      "282/282 [==============================] - 1s 2ms/step - loss: 0.4236 - accuracy: 0.8226 - val_loss: 0.4022 - val_accuracy: 0.8410\n",
      "Epoch 32/50\n",
      "282/282 [==============================] - 1s 2ms/step - loss: 0.4216 - accuracy: 0.8247 - val_loss: 0.4017 - val_accuracy: 0.8430\n",
      "Epoch 33/50\n",
      "282/282 [==============================] - 1s 3ms/step - loss: 0.4203 - accuracy: 0.8251 - val_loss: 0.4014 - val_accuracy: 0.8420\n",
      "Epoch 34/50\n",
      "282/282 [==============================] - 1s 2ms/step - loss: 0.4226 - accuracy: 0.8208 - val_loss: 0.4002 - val_accuracy: 0.8420\n",
      "Epoch 35/50\n",
      "282/282 [==============================] - 1s 2ms/step - loss: 0.4225 - accuracy: 0.8223 - val_loss: 0.3988 - val_accuracy: 0.8440\n",
      "Epoch 36/50\n",
      "282/282 [==============================] - 1s 2ms/step - loss: 0.4203 - accuracy: 0.8237 - val_loss: 0.3985 - val_accuracy: 0.8410\n",
      "Epoch 37/50\n",
      "282/282 [==============================] - 1s 2ms/step - loss: 0.4184 - accuracy: 0.8244 - val_loss: 0.3977 - val_accuracy: 0.8410\n",
      "Epoch 38/50\n",
      "282/282 [==============================] - 1s 2ms/step - loss: 0.4173 - accuracy: 0.8246 - val_loss: 0.3976 - val_accuracy: 0.8430\n",
      "Epoch 39/50\n",
      "282/282 [==============================] - 1s 2ms/step - loss: 0.4193 - accuracy: 0.8246 - val_loss: 0.3954 - val_accuracy: 0.8420\n",
      "Epoch 40/50\n",
      "282/282 [==============================] - 1s 2ms/step - loss: 0.4193 - accuracy: 0.8236 - val_loss: 0.3957 - val_accuracy: 0.8410\n",
      "Epoch 41/50\n",
      "282/282 [==============================] - 1s 2ms/step - loss: 0.4182 - accuracy: 0.8240 - val_loss: 0.3951 - val_accuracy: 0.8420\n",
      "Epoch 42/50\n",
      "282/282 [==============================] - 1s 2ms/step - loss: 0.4175 - accuracy: 0.8244 - val_loss: 0.3949 - val_accuracy: 0.8430\n",
      "Epoch 43/50\n",
      "282/282 [==============================] - 1s 2ms/step - loss: 0.4158 - accuracy: 0.8227 - val_loss: 0.3923 - val_accuracy: 0.8430\n",
      "Epoch 44/50\n",
      "282/282 [==============================] - 1s 2ms/step - loss: 0.4151 - accuracy: 0.8248 - val_loss: 0.3932 - val_accuracy: 0.8410\n",
      "Epoch 45/50\n",
      "282/282 [==============================] - 1s 2ms/step - loss: 0.4156 - accuracy: 0.8224 - val_loss: 0.3925 - val_accuracy: 0.8410\n",
      "Epoch 46/50\n",
      "282/282 [==============================] - 1s 2ms/step - loss: 0.4164 - accuracy: 0.8227 - val_loss: 0.3933 - val_accuracy: 0.8380\n",
      "Epoch 47/50\n",
      "282/282 [==============================] - 1s 2ms/step - loss: 0.4145 - accuracy: 0.8219 - val_loss: 0.3909 - val_accuracy: 0.8380\n",
      "Epoch 48/50\n",
      "282/282 [==============================] - 1s 2ms/step - loss: 0.4115 - accuracy: 0.8229 - val_loss: 0.3895 - val_accuracy: 0.8420\n",
      "Epoch 49/50\n",
      "282/282 [==============================] - 1s 2ms/step - loss: 0.4132 - accuracy: 0.8224 - val_loss: 0.3883 - val_accuracy: 0.8430\n",
      "Epoch 50/50\n",
      "282/282 [==============================] - 1s 2ms/step - loss: 0.4118 - accuracy: 0.8224 - val_loss: 0.3885 - val_accuracy: 0.8400\n"
     ]
    },
    {
     "data": {
      "text/plain": [
       "<keras.callbacks.History at 0x20bdef43340>"
      ]
     },
     "execution_count": 21,
     "metadata": {},
     "output_type": "execute_result"
    }
   ],
   "source": [
    "model.fit(X,y,epochs = 50,validation_split = 0.1)"
   ]
  },
  {
   "cell_type": "markdown",
   "id": "06ac3ffa-2376-488f-a0f5-c8b3e1f36399",
   "metadata": {},
   "source": [
    "### The conclusion is i used BatchNormalizaation stand of Scaler"
   ]
  },
  {
   "cell_type": "markdown",
   "id": "9e9af337-68f5-438c-a17c-5dcd73f0e9a3",
   "metadata": {},
   "source": [
    "## All this steps is hypertuning"
   ]
  },
  {
   "cell_type": "markdown",
   "id": "2d687a44-f4bc-40e2-811f-8d9540431387",
   "metadata": {},
   "source": [
    "### I can add BatchNormalization and see the accuracy"
   ]
  },
  {
   "cell_type": "code",
   "execution_count": 23,
   "id": "4a1cd877-bfd3-4187-9e7a-c7884438f0b1",
   "metadata": {},
   "outputs": [],
   "source": [
    "model = keras.models.Sequential([\n",
    "    keras.layers.BatchNormalization( input_dim = 8),\n",
    "    keras.layers.Dense(6,activation = \"relu\"),\n",
    "    keras.layers.BatchNormalization(),\n",
    "    keras.layers.Dense(3,activation = \"relu\" ),\n",
    "    keras.layers.Dense(1,activation = \"sigmoid\" ) # classification so AF will be sigmoid\n",
    "    \n",
    "])"
   ]
  },
  {
   "cell_type": "code",
   "execution_count": 24,
   "id": "efef45b2-8bba-4b8c-939c-b83dbd2ff741",
   "metadata": {},
   "outputs": [
    {
     "name": "stdout",
     "output_type": "stream",
     "text": [
      "Model: \"sequential_3\"\n",
      "_________________________________________________________________\n",
      " Layer (type)                Output Shape              Param #   \n",
      "=================================================================\n",
      " batch_normalization_1 (Batc  (None, 8)                32        \n",
      " hNormalization)                                                 \n",
      "                                                                 \n",
      " dense_9 (Dense)             (None, 6)                 54        \n",
      "                                                                 \n",
      " batch_normalization_2 (Batc  (None, 6)                24        \n",
      " hNormalization)                                                 \n",
      "                                                                 \n",
      " dense_10 (Dense)            (None, 3)                 21        \n",
      "                                                                 \n",
      " dense_11 (Dense)            (None, 1)                 4         \n",
      "                                                                 \n",
      "=================================================================\n",
      "Total params: 135\n",
      "Trainable params: 107\n",
      "Non-trainable params: 28\n",
      "_________________________________________________________________\n"
     ]
    }
   ],
   "source": [
    "model.summary()"
   ]
  },
  {
   "cell_type": "code",
   "execution_count": 25,
   "id": "01813a46-a4e6-4764-ab16-1f3f8d67ebb4",
   "metadata": {},
   "outputs": [],
   "source": [
    "model.compile(optimizer = \"SGD\" , loss = \"binary_crossentropy\" , metrics =\"accuracy\")"
   ]
  },
  {
   "cell_type": "code",
   "execution_count": 26,
   "id": "808f817f-189a-4afe-a61f-8cea9c037eb2",
   "metadata": {},
   "outputs": [
    {
     "name": "stdout",
     "output_type": "stream",
     "text": [
      "Epoch 1/50\n",
      "282/282 [==============================] - 1s 3ms/step - loss: 0.5932 - accuracy: 0.7348 - val_loss: 0.5098 - val_accuracy: 0.8210\n",
      "Epoch 2/50\n",
      "282/282 [==============================] - 1s 2ms/step - loss: 0.5231 - accuracy: 0.7936 - val_loss: 0.4722 - val_accuracy: 0.8210\n",
      "Epoch 3/50\n",
      "282/282 [==============================] - 1s 2ms/step - loss: 0.4983 - accuracy: 0.7936 - val_loss: 0.4551 - val_accuracy: 0.8210\n",
      "Epoch 4/50\n",
      "282/282 [==============================] - 1s 2ms/step - loss: 0.4820 - accuracy: 0.7936 - val_loss: 0.4426 - val_accuracy: 0.8210\n",
      "Epoch 5/50\n",
      "282/282 [==============================] - 1s 2ms/step - loss: 0.4714 - accuracy: 0.7936 - val_loss: 0.4343 - val_accuracy: 0.8210\n",
      "Epoch 6/50\n",
      "282/282 [==============================] - 1s 2ms/step - loss: 0.4611 - accuracy: 0.7936 - val_loss: 0.4278 - val_accuracy: 0.8210\n",
      "Epoch 7/50\n",
      "282/282 [==============================] - 1s 2ms/step - loss: 0.4554 - accuracy: 0.7936 - val_loss: 0.4240 - val_accuracy: 0.8210\n",
      "Epoch 8/50\n",
      "282/282 [==============================] - 1s 2ms/step - loss: 0.4491 - accuracy: 0.7936 - val_loss: 0.4209 - val_accuracy: 0.8210\n",
      "Epoch 9/50\n",
      "282/282 [==============================] - 1s 2ms/step - loss: 0.4441 - accuracy: 0.7936 - val_loss: 0.4181 - val_accuracy: 0.8210\n",
      "Epoch 10/50\n",
      "282/282 [==============================] - 1s 2ms/step - loss: 0.4415 - accuracy: 0.7936 - val_loss: 0.4165 - val_accuracy: 0.8210\n",
      "Epoch 11/50\n",
      "282/282 [==============================] - 1s 2ms/step - loss: 0.4415 - accuracy: 0.7936 - val_loss: 0.4154 - val_accuracy: 0.8210\n",
      "Epoch 12/50\n",
      "282/282 [==============================] - 1s 2ms/step - loss: 0.4386 - accuracy: 0.7936 - val_loss: 0.4140 - val_accuracy: 0.8210\n",
      "Epoch 13/50\n",
      "282/282 [==============================] - 1s 2ms/step - loss: 0.4368 - accuracy: 0.7936 - val_loss: 0.4130 - val_accuracy: 0.8210\n",
      "Epoch 14/50\n",
      "282/282 [==============================] - 1s 2ms/step - loss: 0.4376 - accuracy: 0.7936 - val_loss: 0.4121 - val_accuracy: 0.8210\n",
      "Epoch 15/50\n",
      "282/282 [==============================] - 1s 3ms/step - loss: 0.4348 - accuracy: 0.7936 - val_loss: 0.4107 - val_accuracy: 0.8210\n",
      "Epoch 16/50\n",
      "282/282 [==============================] - 1s 2ms/step - loss: 0.4339 - accuracy: 0.7936 - val_loss: 0.4100 - val_accuracy: 0.8210\n",
      "Epoch 17/50\n",
      "282/282 [==============================] - 1s 2ms/step - loss: 0.4330 - accuracy: 0.7936 - val_loss: 0.4093 - val_accuracy: 0.8210\n",
      "Epoch 18/50\n",
      "282/282 [==============================] - 1s 2ms/step - loss: 0.4331 - accuracy: 0.7936 - val_loss: 0.4079 - val_accuracy: 0.8210\n",
      "Epoch 19/50\n",
      "282/282 [==============================] - 1s 2ms/step - loss: 0.4320 - accuracy: 0.7936 - val_loss: 0.4077 - val_accuracy: 0.8210\n",
      "Epoch 20/50\n",
      "282/282 [==============================] - 1s 2ms/step - loss: 0.4326 - accuracy: 0.7936 - val_loss: 0.4060 - val_accuracy: 0.8210\n",
      "Epoch 21/50\n",
      "282/282 [==============================] - 1s 2ms/step - loss: 0.4293 - accuracy: 0.8091 - val_loss: 0.4042 - val_accuracy: 0.8390\n",
      "Epoch 22/50\n",
      "282/282 [==============================] - 1s 2ms/step - loss: 0.4309 - accuracy: 0.8198 - val_loss: 0.4038 - val_accuracy: 0.8390\n",
      "Epoch 23/50\n",
      "282/282 [==============================] - 1s 2ms/step - loss: 0.4297 - accuracy: 0.8216 - val_loss: 0.4031 - val_accuracy: 0.8380\n",
      "Epoch 24/50\n",
      "282/282 [==============================] - 1s 2ms/step - loss: 0.4271 - accuracy: 0.8243 - val_loss: 0.4020 - val_accuracy: 0.8380\n",
      "Epoch 25/50\n",
      "282/282 [==============================] - 1s 2ms/step - loss: 0.4277 - accuracy: 0.8256 - val_loss: 0.4008 - val_accuracy: 0.8390\n",
      "Epoch 26/50\n",
      "282/282 [==============================] - 1s 2ms/step - loss: 0.4270 - accuracy: 0.8260 - val_loss: 0.3998 - val_accuracy: 0.8400\n",
      "Epoch 27/50\n",
      "282/282 [==============================] - 1s 2ms/step - loss: 0.4231 - accuracy: 0.8250 - val_loss: 0.4003 - val_accuracy: 0.8380\n",
      "Epoch 28/50\n",
      "282/282 [==============================] - 1s 2ms/step - loss: 0.4254 - accuracy: 0.8250 - val_loss: 0.4003 - val_accuracy: 0.8370\n",
      "Epoch 29/50\n",
      "282/282 [==============================] - 1s 2ms/step - loss: 0.4252 - accuracy: 0.8257 - val_loss: 0.3995 - val_accuracy: 0.8380\n",
      "Epoch 30/50\n",
      "282/282 [==============================] - 1s 2ms/step - loss: 0.4255 - accuracy: 0.8251 - val_loss: 0.3997 - val_accuracy: 0.8380\n",
      "Epoch 31/50\n",
      "282/282 [==============================] - 1s 2ms/step - loss: 0.4224 - accuracy: 0.8293 - val_loss: 0.3986 - val_accuracy: 0.8400\n",
      "Epoch 32/50\n",
      "282/282 [==============================] - 1s 2ms/step - loss: 0.4231 - accuracy: 0.8262 - val_loss: 0.3987 - val_accuracy: 0.8390\n",
      "Epoch 33/50\n",
      "282/282 [==============================] - 1s 3ms/step - loss: 0.4216 - accuracy: 0.8282 - val_loss: 0.3978 - val_accuracy: 0.8430\n",
      "Epoch 34/50\n",
      "282/282 [==============================] - 1s 3ms/step - loss: 0.4232 - accuracy: 0.8243 - val_loss: 0.3978 - val_accuracy: 0.8430\n",
      "Epoch 35/50\n",
      "282/282 [==============================] - 1s 3ms/step - loss: 0.4224 - accuracy: 0.8268 - val_loss: 0.3973 - val_accuracy: 0.8430\n",
      "Epoch 36/50\n",
      "282/282 [==============================] - 1s 2ms/step - loss: 0.4221 - accuracy: 0.8262 - val_loss: 0.3969 - val_accuracy: 0.8430\n",
      "Epoch 37/50\n",
      "282/282 [==============================] - 1s 2ms/step - loss: 0.4182 - accuracy: 0.8264 - val_loss: 0.3969 - val_accuracy: 0.8420\n",
      "Epoch 38/50\n",
      "282/282 [==============================] - 1s 2ms/step - loss: 0.4208 - accuracy: 0.8277 - val_loss: 0.3970 - val_accuracy: 0.8410\n",
      "Epoch 39/50\n",
      "282/282 [==============================] - 1s 3ms/step - loss: 0.4216 - accuracy: 0.8262 - val_loss: 0.3972 - val_accuracy: 0.8420\n",
      "Epoch 40/50\n",
      "282/282 [==============================] - 1s 2ms/step - loss: 0.4197 - accuracy: 0.8289 - val_loss: 0.3963 - val_accuracy: 0.8430\n",
      "Epoch 41/50\n",
      "282/282 [==============================] - 1s 2ms/step - loss: 0.4217 - accuracy: 0.8284 - val_loss: 0.3959 - val_accuracy: 0.8420\n",
      "Epoch 42/50\n",
      "282/282 [==============================] - 1s 2ms/step - loss: 0.4196 - accuracy: 0.8282 - val_loss: 0.3967 - val_accuracy: 0.8420\n",
      "Epoch 43/50\n",
      "282/282 [==============================] - 1s 2ms/step - loss: 0.4185 - accuracy: 0.8283 - val_loss: 0.3966 - val_accuracy: 0.8410\n",
      "Epoch 44/50\n",
      "282/282 [==============================] - 1s 2ms/step - loss: 0.4176 - accuracy: 0.8283 - val_loss: 0.3957 - val_accuracy: 0.8430\n",
      "Epoch 45/50\n",
      "282/282 [==============================] - 1s 2ms/step - loss: 0.4216 - accuracy: 0.8266 - val_loss: 0.3963 - val_accuracy: 0.8420\n",
      "Epoch 46/50\n",
      "282/282 [==============================] - 1s 3ms/step - loss: 0.4176 - accuracy: 0.8278 - val_loss: 0.3958 - val_accuracy: 0.8420\n",
      "Epoch 47/50\n",
      "282/282 [==============================] - 1s 3ms/step - loss: 0.4197 - accuracy: 0.8258 - val_loss: 0.3956 - val_accuracy: 0.8430\n",
      "Epoch 48/50\n",
      "282/282 [==============================] - 1s 2ms/step - loss: 0.4181 - accuracy: 0.8302 - val_loss: 0.3947 - val_accuracy: 0.8450\n",
      "Epoch 49/50\n",
      "282/282 [==============================] - 1s 4ms/step - loss: 0.4190 - accuracy: 0.8270 - val_loss: 0.3958 - val_accuracy: 0.8440\n",
      "Epoch 50/50\n",
      "282/282 [==============================] - 1s 4ms/step - loss: 0.4165 - accuracy: 0.8296 - val_loss: 0.3949 - val_accuracy: 0.8440\n"
     ]
    },
    {
     "data": {
      "text/plain": [
       "<keras.callbacks.History at 0x20be162dd90>"
      ]
     },
     "execution_count": 26,
     "metadata": {},
     "output_type": "execute_result"
    }
   ],
   "source": [
    "model.fit(X,y,epochs = 50,validation_split = 0.1)"
   ]
  },
  {
   "cell_type": "markdown",
   "id": "0699e93d-5fe5-464e-8c0f-93fb0afa4e58",
   "metadata": {},
   "source": [
    "### try dropout"
   ]
  },
  {
   "cell_type": "code",
   "execution_count": 14,
   "id": "15b54b82-ab39-4911-8f20-9b0a7ededd63",
   "metadata": {},
   "outputs": [],
   "source": [
    "model = keras.models.Sequential([\n",
    "    \n",
    "    keras.layers.BatchNormalization( input_dim = 8),\n",
    "    \n",
    "    keras.layers.Dense(6,activation = \"relu\"),\n",
    "    \n",
    "    keras.layers.BatchNormalization(),\n",
    "    \n",
    "    keras.layers.Dropout(0.3),\n",
    "    \n",
    "    keras.layers.Dense(3,activation = \"relu\" ),\n",
    "    \n",
    "    keras.layers.Dense(1,activation = \"sigmoid\" ) # classification so AF will be sigmoid\n",
    "    \n",
    "])"
   ]
  },
  {
   "cell_type": "code",
   "execution_count": 15,
   "id": "21839cca-18fb-433a-97db-45e861678998",
   "metadata": {},
   "outputs": [
    {
     "name": "stdout",
     "output_type": "stream",
     "text": [
      "Model: \"sequential_2\"\n",
      "_________________________________________________________________\n",
      " Layer (type)                Output Shape              Param #   \n",
      "=================================================================\n",
      " batch_normalization_4 (Batc  (None, 8)                32        \n",
      " hNormalization)                                                 \n",
      "                                                                 \n",
      " dense_6 (Dense)             (None, 6)                 54        \n",
      "                                                                 \n",
      " batch_normalization_5 (Batc  (None, 6)                24        \n",
      " hNormalization)                                                 \n",
      "                                                                 \n",
      " dropout_2 (Dropout)         (None, 6)                 0         \n",
      "                                                                 \n",
      " dense_7 (Dense)             (None, 3)                 21        \n",
      "                                                                 \n",
      " dense_8 (Dense)             (None, 1)                 4         \n",
      "                                                                 \n",
      "=================================================================\n",
      "Total params: 135\n",
      "Trainable params: 107\n",
      "Non-trainable params: 28\n",
      "_________________________________________________________________\n"
     ]
    }
   ],
   "source": [
    "model.summary()"
   ]
  },
  {
   "cell_type": "code",
   "execution_count": 16,
   "id": "9ee047c2-01c9-4a4f-be2e-ea17658a9081",
   "metadata": {},
   "outputs": [],
   "source": [
    "model.compile(optimizer = \"SGD\" , loss = \"binary_crossentropy\" , metrics =\"accuracy\")"
   ]
  },
  {
   "cell_type": "code",
   "execution_count": 17,
   "id": "74d61a39-c133-481f-aea7-828828bbbde5",
   "metadata": {},
   "outputs": [
    {
     "name": "stdout",
     "output_type": "stream",
     "text": [
      "Epoch 1/50\n",
      "282/282 [==============================] - 2s 4ms/step - loss: 0.5377 - accuracy: 0.7816 - val_loss: 0.4857 - val_accuracy: 0.8140\n",
      "Epoch 2/50\n",
      "282/282 [==============================] - 1s 2ms/step - loss: 0.5068 - accuracy: 0.7889 - val_loss: 0.4621 - val_accuracy: 0.8200\n",
      "Epoch 3/50\n",
      "282/282 [==============================] - 1s 2ms/step - loss: 0.4902 - accuracy: 0.7919 - val_loss: 0.4534 - val_accuracy: 0.8210\n",
      "Epoch 4/50\n",
      "282/282 [==============================] - 1s 2ms/step - loss: 0.4845 - accuracy: 0.7922 - val_loss: 0.4444 - val_accuracy: 0.8220\n",
      "Epoch 5/50\n",
      "282/282 [==============================] - 1s 2ms/step - loss: 0.4786 - accuracy: 0.7923 - val_loss: 0.4397 - val_accuracy: 0.8220\n",
      "Epoch 6/50\n",
      "282/282 [==============================] - 1s 2ms/step - loss: 0.4727 - accuracy: 0.7917 - val_loss: 0.4360 - val_accuracy: 0.8210\n",
      "Epoch 7/50\n",
      "282/282 [==============================] - 1s 2ms/step - loss: 0.4702 - accuracy: 0.7928 - val_loss: 0.4326 - val_accuracy: 0.8210\n",
      "Epoch 8/50\n",
      "282/282 [==============================] - 1s 2ms/step - loss: 0.4645 - accuracy: 0.7929 - val_loss: 0.4305 - val_accuracy: 0.8210\n",
      "Epoch 9/50\n",
      "282/282 [==============================] - 1s 2ms/step - loss: 0.4638 - accuracy: 0.7926 - val_loss: 0.4290 - val_accuracy: 0.8210\n",
      "Epoch 10/50\n",
      "282/282 [==============================] - 1s 2ms/step - loss: 0.4611 - accuracy: 0.7924 - val_loss: 0.4271 - val_accuracy: 0.8210\n",
      "Epoch 11/50\n",
      "282/282 [==============================] - 1s 2ms/step - loss: 0.4597 - accuracy: 0.7932 - val_loss: 0.4266 - val_accuracy: 0.8210\n",
      "Epoch 12/50\n",
      "282/282 [==============================] - 1s 2ms/step - loss: 0.4559 - accuracy: 0.7934 - val_loss: 0.4255 - val_accuracy: 0.8210\n",
      "Epoch 13/50\n",
      "282/282 [==============================] - 1s 2ms/step - loss: 0.4570 - accuracy: 0.7939 - val_loss: 0.4246 - val_accuracy: 0.8210\n",
      "Epoch 14/50\n",
      "282/282 [==============================] - 1s 3ms/step - loss: 0.4562 - accuracy: 0.7944 - val_loss: 0.4246 - val_accuracy: 0.8210\n",
      "Epoch 15/50\n",
      "282/282 [==============================] - 1s 2ms/step - loss: 0.4524 - accuracy: 0.7933 - val_loss: 0.4235 - val_accuracy: 0.8210\n",
      "Epoch 16/50\n",
      "282/282 [==============================] - 1s 2ms/step - loss: 0.4510 - accuracy: 0.7941 - val_loss: 0.4231 - val_accuracy: 0.8210\n",
      "Epoch 17/50\n",
      "282/282 [==============================] - 1s 2ms/step - loss: 0.4519 - accuracy: 0.7929 - val_loss: 0.4223 - val_accuracy: 0.8210\n",
      "Epoch 18/50\n",
      "282/282 [==============================] - 1s 2ms/step - loss: 0.4525 - accuracy: 0.7933 - val_loss: 0.4220 - val_accuracy: 0.8210\n",
      "Epoch 19/50\n",
      "282/282 [==============================] - 1s 2ms/step - loss: 0.4509 - accuracy: 0.7941 - val_loss: 0.4216 - val_accuracy: 0.8210\n",
      "Epoch 20/50\n",
      "282/282 [==============================] - 1s 2ms/step - loss: 0.4519 - accuracy: 0.7932 - val_loss: 0.4220 - val_accuracy: 0.8210\n",
      "Epoch 21/50\n",
      "282/282 [==============================] - 1s 2ms/step - loss: 0.4508 - accuracy: 0.7944 - val_loss: 0.4214 - val_accuracy: 0.8210\n",
      "Epoch 22/50\n",
      "282/282 [==============================] - 1s 2ms/step - loss: 0.4488 - accuracy: 0.7936 - val_loss: 0.4206 - val_accuracy: 0.8210\n",
      "Epoch 23/50\n",
      "282/282 [==============================] - 1s 2ms/step - loss: 0.4525 - accuracy: 0.7933 - val_loss: 0.4214 - val_accuracy: 0.8210\n",
      "Epoch 24/50\n",
      "282/282 [==============================] - 1s 2ms/step - loss: 0.4507 - accuracy: 0.7940 - val_loss: 0.4211 - val_accuracy: 0.8210\n",
      "Epoch 25/50\n",
      "282/282 [==============================] - 1s 3ms/step - loss: 0.4517 - accuracy: 0.7926 - val_loss: 0.4205 - val_accuracy: 0.8210\n",
      "Epoch 26/50\n",
      "282/282 [==============================] - 1s 2ms/step - loss: 0.4468 - accuracy: 0.7949 - val_loss: 0.4197 - val_accuracy: 0.8210\n",
      "Epoch 27/50\n",
      "282/282 [==============================] - 1s 2ms/step - loss: 0.4501 - accuracy: 0.7936 - val_loss: 0.4198 - val_accuracy: 0.8210\n",
      "Epoch 28/50\n",
      "282/282 [==============================] - 1s 2ms/step - loss: 0.4505 - accuracy: 0.7933 - val_loss: 0.4195 - val_accuracy: 0.8210\n",
      "Epoch 29/50\n",
      "282/282 [==============================] - 1s 2ms/step - loss: 0.4484 - accuracy: 0.7932 - val_loss: 0.4198 - val_accuracy: 0.8210\n",
      "Epoch 30/50\n",
      "282/282 [==============================] - 1s 2ms/step - loss: 0.4506 - accuracy: 0.7940 - val_loss: 0.4196 - val_accuracy: 0.8220\n",
      "Epoch 31/50\n",
      "282/282 [==============================] - 1s 2ms/step - loss: 0.4466 - accuracy: 0.7949 - val_loss: 0.4186 - val_accuracy: 0.8230\n",
      "Epoch 32/50\n",
      "282/282 [==============================] - 1s 2ms/step - loss: 0.4470 - accuracy: 0.7950 - val_loss: 0.4185 - val_accuracy: 0.8230\n",
      "Epoch 33/50\n",
      "282/282 [==============================] - 1s 2ms/step - loss: 0.4476 - accuracy: 0.7962 - val_loss: 0.4178 - val_accuracy: 0.8230\n",
      "Epoch 34/50\n",
      "282/282 [==============================] - 1s 2ms/step - loss: 0.4460 - accuracy: 0.7967 - val_loss: 0.4182 - val_accuracy: 0.8260\n",
      "Epoch 35/50\n",
      "282/282 [==============================] - 1s 2ms/step - loss: 0.4457 - accuracy: 0.7963 - val_loss: 0.4181 - val_accuracy: 0.8270\n",
      "Epoch 36/50\n",
      "282/282 [==============================] - 1s 2ms/step - loss: 0.4462 - accuracy: 0.7968 - val_loss: 0.4179 - val_accuracy: 0.8250\n",
      "Epoch 37/50\n",
      "282/282 [==============================] - 1s 3ms/step - loss: 0.4445 - accuracy: 0.7956 - val_loss: 0.4177 - val_accuracy: 0.8260\n",
      "Epoch 38/50\n",
      "282/282 [==============================] - 1s 3ms/step - loss: 0.4447 - accuracy: 0.7969 - val_loss: 0.4168 - val_accuracy: 0.8260\n",
      "Epoch 39/50\n",
      "282/282 [==============================] - 1s 3ms/step - loss: 0.4443 - accuracy: 0.7971 - val_loss: 0.4163 - val_accuracy: 0.8280\n",
      "Epoch 40/50\n",
      "282/282 [==============================] - 1s 2ms/step - loss: 0.4441 - accuracy: 0.7990 - val_loss: 0.4166 - val_accuracy: 0.8270\n",
      "Epoch 41/50\n",
      "282/282 [==============================] - 1s 2ms/step - loss: 0.4423 - accuracy: 0.7981 - val_loss: 0.4154 - val_accuracy: 0.8260\n",
      "Epoch 42/50\n",
      "282/282 [==============================] - 1s 2ms/step - loss: 0.4417 - accuracy: 0.8007 - val_loss: 0.4151 - val_accuracy: 0.8230\n",
      "Epoch 43/50\n",
      "282/282 [==============================] - 1s 2ms/step - loss: 0.4444 - accuracy: 0.7976 - val_loss: 0.4142 - val_accuracy: 0.8240\n",
      "Epoch 44/50\n",
      "282/282 [==============================] - 1s 2ms/step - loss: 0.4451 - accuracy: 0.7984 - val_loss: 0.4145 - val_accuracy: 0.8220\n",
      "Epoch 45/50\n",
      "282/282 [==============================] - 1s 2ms/step - loss: 0.4426 - accuracy: 0.8032 - val_loss: 0.4134 - val_accuracy: 0.8210\n",
      "Epoch 46/50\n",
      "282/282 [==============================] - 1s 2ms/step - loss: 0.4431 - accuracy: 0.7997 - val_loss: 0.4133 - val_accuracy: 0.8220\n",
      "Epoch 47/50\n",
      "282/282 [==============================] - 1s 2ms/step - loss: 0.4410 - accuracy: 0.8017 - val_loss: 0.4126 - val_accuracy: 0.8220\n",
      "Epoch 48/50\n",
      "282/282 [==============================] - 1s 3ms/step - loss: 0.4420 - accuracy: 0.8019 - val_loss: 0.4128 - val_accuracy: 0.8190\n",
      "Epoch 49/50\n",
      "282/282 [==============================] - 1s 2ms/step - loss: 0.4413 - accuracy: 0.7987 - val_loss: 0.4121 - val_accuracy: 0.8220\n",
      "Epoch 50/50\n",
      "282/282 [==============================] - 1s 2ms/step - loss: 0.4442 - accuracy: 0.7992 - val_loss: 0.4118 - val_accuracy: 0.8200\n"
     ]
    },
    {
     "data": {
      "text/plain": [
       "<keras.callbacks.History at 0x22459ff38b0>"
      ]
     },
     "execution_count": 17,
     "metadata": {},
     "output_type": "execute_result"
    }
   ],
   "source": [
    "model.fit(X,y,epochs = 50,validation_split = 0.1)"
   ]
  },
  {
   "cell_type": "markdown",
   "id": "a35b703c-ddcc-4849-8658-eb87668b86d7",
   "metadata": {},
   "source": [
    "### Here is some value more and then it less and then it's more"
   ]
  },
  {
   "cell_type": "code",
   "execution_count": null,
   "id": "6dc4a01d-9d23-4f64-947a-47e99434f97e",
   "metadata": {},
   "outputs": [],
   "source": [
    " ##"
   ]
  },
  {
   "cell_type": "markdown",
   "id": "fe3bc22d-0098-4846-abba-e142c505a61f",
   "metadata": {},
   "source": [
    "### When i have the loss is more and less and then more i need to stop that , so i will use early stop."
   ]
  },
  {
   "cell_type": "code",
   "execution_count": 25,
   "id": "77bb8d94-494d-416c-a7fd-80793a482ec2",
   "metadata": {},
   "outputs": [],
   "source": [
    "model = keras.models.Sequential([\n",
    "    \n",
    "    keras.layers.BatchNormalization( input_dim = 8),\n",
    "    \n",
    "    keras.layers.Dense(6,activation = \"relu\"),\n",
    "    \n",
    "    keras.layers.BatchNormalization(),\n",
    "    \n",
    "    #keras.layers.Dropout(0.3),\n",
    "    \n",
    "    keras.layers.Dense(3,activation = \"relu\" ),\n",
    "    \n",
    "    keras.layers.Dense(1,activation = \"sigmoid\" ) # classification so AF will be sigmoid\n",
    "    \n",
    "])"
   ]
  },
  {
   "cell_type": "code",
   "execution_count": 26,
   "id": "019a995f-3cf4-4001-acba-1786452e0e11",
   "metadata": {},
   "outputs": [
    {
     "name": "stdout",
     "output_type": "stream",
     "text": [
      "Model: \"sequential_4\"\n",
      "_________________________________________________________________\n",
      " Layer (type)                Output Shape              Param #   \n",
      "=================================================================\n",
      " batch_normalization_8 (Batc  (None, 8)                32        \n",
      " hNormalization)                                                 \n",
      "                                                                 \n",
      " dense_12 (Dense)            (None, 6)                 54        \n",
      "                                                                 \n",
      " batch_normalization_9 (Batc  (None, 6)                24        \n",
      " hNormalization)                                                 \n",
      "                                                                 \n",
      " dense_13 (Dense)            (None, 3)                 21        \n",
      "                                                                 \n",
      " dense_14 (Dense)            (None, 1)                 4         \n",
      "                                                                 \n",
      "=================================================================\n",
      "Total params: 135\n",
      "Trainable params: 107\n",
      "Non-trainable params: 28\n",
      "_________________________________________________________________\n"
     ]
    }
   ],
   "source": [
    "model.summary()"
   ]
  },
  {
   "cell_type": "code",
   "execution_count": null,
   "id": "4f57b5d5-ebe9-42fa-b3b6-d19c1594e922",
   "metadata": {},
   "outputs": [],
   "source": []
  },
  {
   "cell_type": "markdown",
   "id": "cf85ed04-1ca9-4fbb-bde3-d97c3bec41a0",
   "metadata": {},
   "source": [
    " use 1- callback - keras.callbacks.Earlystopping(monitor)"
   ]
  },
  {
   "cell_type": "markdown",
   "id": "e8a2b32d-836d-4c37-ba19-3bdbbac411b3",
   "metadata": {},
   "source": [
    "Monitor --> ان بص علي ال loss"
   ]
  },
  {
   "cell_type": "markdown",
   "id": "f8dcbeb4-7274-4b6e-bb41-c2f13487cd9e",
   "metadata": {},
   "source": [
    "patience --> اتأكد علي انك هتقف بعد كام epochs\n",
    "\n",
    "ان يعني لما تزيد وتقل بص بعد اتنين لو لقيت بيقل وبعد 2 بيزيد وقف عند دي "
   ]
  },
  {
   "cell_type": "code",
   "execution_count": 27,
   "id": "7cc12d4c-2bbd-41dc-8c07-aeb2650477fc",
   "metadata": {},
   "outputs": [],
   "source": [
    "callback_early_stopping = keras.callbacks.EarlyStopping(monitor='loss',patience=2)\n",
    "model.compile(optimizer = \"SGD\" , loss = \"binary_crossentropy\" , metrics =\"accuracy\")"
   ]
  },
  {
   "cell_type": "code",
   "execution_count": 28,
   "id": "85b8f5ae-fc42-4018-ae68-4c85697b4307",
   "metadata": {},
   "outputs": [
    {
     "name": "stdout",
     "output_type": "stream",
     "text": [
      "Epoch 1/50\n",
      "282/282 [==============================] - 4s 12ms/step - loss: 0.5989 - accuracy: 0.7426 - val_loss: 0.5150 - val_accuracy: 0.8120\n",
      "Epoch 2/50\n",
      "282/282 [==============================] - 1s 2ms/step - loss: 0.4946 - accuracy: 0.7877 - val_loss: 0.4674 - val_accuracy: 0.8160\n",
      "Epoch 3/50\n",
      "282/282 [==============================] - 1s 3ms/step - loss: 0.4717 - accuracy: 0.7902 - val_loss: 0.4505 - val_accuracy: 0.8150\n",
      "Epoch 4/50\n",
      "282/282 [==============================] - 1s 2ms/step - loss: 0.4605 - accuracy: 0.7930 - val_loss: 0.4408 - val_accuracy: 0.8170\n",
      "Epoch 5/50\n",
      "282/282 [==============================] - 1s 2ms/step - loss: 0.4533 - accuracy: 0.7948 - val_loss: 0.4343 - val_accuracy: 0.8170\n",
      "Epoch 6/50\n",
      "282/282 [==============================] - 1s 2ms/step - loss: 0.4486 - accuracy: 0.7940 - val_loss: 0.4300 - val_accuracy: 0.8160\n",
      "Epoch 7/50\n",
      "282/282 [==============================] - 1s 2ms/step - loss: 0.4445 - accuracy: 0.7973 - val_loss: 0.4256 - val_accuracy: 0.8190\n",
      "Epoch 8/50\n",
      "282/282 [==============================] - 1s 2ms/step - loss: 0.4451 - accuracy: 0.7974 - val_loss: 0.4222 - val_accuracy: 0.8200\n",
      "Epoch 9/50\n",
      "282/282 [==============================] - 1s 2ms/step - loss: 0.4392 - accuracy: 0.7989 - val_loss: 0.4193 - val_accuracy: 0.8240\n",
      "Epoch 10/50\n",
      "282/282 [==============================] - 1s 2ms/step - loss: 0.4385 - accuracy: 0.8031 - val_loss: 0.4162 - val_accuracy: 0.8230\n",
      "Epoch 11/50\n",
      "282/282 [==============================] - 1s 2ms/step - loss: 0.4353 - accuracy: 0.8033 - val_loss: 0.4131 - val_accuracy: 0.8220\n",
      "Epoch 12/50\n",
      "282/282 [==============================] - 1s 3ms/step - loss: 0.4324 - accuracy: 0.8039 - val_loss: 0.4110 - val_accuracy: 0.8210\n",
      "Epoch 13/50\n",
      "282/282 [==============================] - 1s 3ms/step - loss: 0.4332 - accuracy: 0.8033 - val_loss: 0.4087 - val_accuracy: 0.8210\n",
      "Epoch 14/50\n",
      "282/282 [==============================] - 1s 3ms/step - loss: 0.4298 - accuracy: 0.8068 - val_loss: 0.4070 - val_accuracy: 0.8190\n",
      "Epoch 15/50\n",
      "282/282 [==============================] - 1s 2ms/step - loss: 0.4291 - accuracy: 0.8071 - val_loss: 0.4042 - val_accuracy: 0.8220\n",
      "Epoch 16/50\n",
      "282/282 [==============================] - 1s 3ms/step - loss: 0.4259 - accuracy: 0.8110 - val_loss: 0.4006 - val_accuracy: 0.8260\n",
      "Epoch 17/50\n",
      "282/282 [==============================] - 1s 2ms/step - loss: 0.4269 - accuracy: 0.8116 - val_loss: 0.3990 - val_accuracy: 0.8240\n",
      "Epoch 18/50\n",
      "282/282 [==============================] - 1s 2ms/step - loss: 0.4233 - accuracy: 0.8116 - val_loss: 0.3979 - val_accuracy: 0.8260\n",
      "Epoch 19/50\n",
      "282/282 [==============================] - 1s 2ms/step - loss: 0.4228 - accuracy: 0.8143 - val_loss: 0.3966 - val_accuracy: 0.8290\n",
      "Epoch 20/50\n",
      "282/282 [==============================] - 1s 2ms/step - loss: 0.4205 - accuracy: 0.8166 - val_loss: 0.3947 - val_accuracy: 0.8310\n",
      "Epoch 21/50\n",
      "282/282 [==============================] - 1s 2ms/step - loss: 0.4176 - accuracy: 0.8176 - val_loss: 0.3935 - val_accuracy: 0.8320\n",
      "Epoch 22/50\n",
      "282/282 [==============================] - 1s 2ms/step - loss: 0.4188 - accuracy: 0.8163 - val_loss: 0.3915 - val_accuracy: 0.8350\n",
      "Epoch 23/50\n",
      "282/282 [==============================] - 1s 2ms/step - loss: 0.4176 - accuracy: 0.8173 - val_loss: 0.3904 - val_accuracy: 0.8360\n",
      "Epoch 24/50\n",
      "282/282 [==============================] - 1s 2ms/step - loss: 0.4156 - accuracy: 0.8223 - val_loss: 0.3885 - val_accuracy: 0.8400\n",
      "Epoch 25/50\n",
      "282/282 [==============================] - 1s 2ms/step - loss: 0.4139 - accuracy: 0.8224 - val_loss: 0.3867 - val_accuracy: 0.8430\n",
      "Epoch 26/50\n",
      "282/282 [==============================] - 1s 2ms/step - loss: 0.4147 - accuracy: 0.8219 - val_loss: 0.3856 - val_accuracy: 0.8410\n",
      "Epoch 27/50\n",
      "282/282 [==============================] - 1s 2ms/step - loss: 0.4120 - accuracy: 0.8231 - val_loss: 0.3838 - val_accuracy: 0.8440\n",
      "Epoch 28/50\n",
      "282/282 [==============================] - 1s 2ms/step - loss: 0.4121 - accuracy: 0.8240 - val_loss: 0.3825 - val_accuracy: 0.8450\n",
      "Epoch 29/50\n",
      "282/282 [==============================] - 1s 2ms/step - loss: 0.4097 - accuracy: 0.8259 - val_loss: 0.3818 - val_accuracy: 0.8440\n",
      "Epoch 30/50\n",
      "282/282 [==============================] - 1s 2ms/step - loss: 0.4077 - accuracy: 0.8250 - val_loss: 0.3794 - val_accuracy: 0.8450\n",
      "Epoch 31/50\n",
      "282/282 [==============================] - 1s 2ms/step - loss: 0.4039 - accuracy: 0.8296 - val_loss: 0.3793 - val_accuracy: 0.8490\n",
      "Epoch 32/50\n",
      "282/282 [==============================] - 1s 2ms/step - loss: 0.4002 - accuracy: 0.8317 - val_loss: 0.3770 - val_accuracy: 0.8480\n",
      "Epoch 33/50\n",
      "282/282 [==============================] - 1s 2ms/step - loss: 0.4039 - accuracy: 0.8302 - val_loss: 0.3765 - val_accuracy: 0.8510\n",
      "Epoch 34/50\n",
      "282/282 [==============================] - 1s 2ms/step - loss: 0.4005 - accuracy: 0.8329 - val_loss: 0.3751 - val_accuracy: 0.8520\n"
     ]
    },
    {
     "data": {
      "text/plain": [
       "<keras.callbacks.History at 0x2245d5d2d30>"
      ]
     },
     "execution_count": 28,
     "metadata": {},
     "output_type": "execute_result"
    }
   ],
   "source": [
    "model.fit(X,y,epochs = 50,validation_split = 0.1 ,callbacks = callback_early_stopping)"
   ]
  },
  {
   "cell_type": "markdown",
   "id": "9e463e59-52fb-440e-993b-261fed3d1e0d",
   "metadata": {},
   "source": [
    "### it will solpe the time complix and the model overfitting"
   ]
  },
  {
   "cell_type": "code",
   "execution_count": null,
   "id": "80d68381-df3c-4a4b-bc3b-1ffb474f7d7c",
   "metadata": {},
   "outputs": [],
   "source": []
  }
 ],
 "metadata": {
  "kernelspec": {
   "display_name": "Python 3 (ipykernel)",
   "language": "python",
   "name": "python3"
  },
  "language_info": {
   "codemirror_mode": {
    "name": "ipython",
    "version": 3
   },
   "file_extension": ".py",
   "mimetype": "text/x-python",
   "name": "python",
   "nbconvert_exporter": "python",
   "pygments_lexer": "ipython3",
   "version": "3.9.7"
  }
 },
 "nbformat": 4,
 "nbformat_minor": 5
}
